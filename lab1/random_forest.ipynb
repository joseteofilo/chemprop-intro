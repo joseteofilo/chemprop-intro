{
  "nbformat": 4,
  "nbformat_minor": 0,
  "metadata": {
    "colab": {
      "name": "random_forest.ipynb",
      "version": "0.3.2",
      "provenance": [],
      "include_colab_link": true
    },
    "kernelspec": {
      "name": "python3",
      "display_name": "Python 3"
    }
  },
  "cells": [
    {
      "cell_type": "markdown",
      "metadata": {
        "id": "view-in-github",
        "colab_type": "text"
      },
      "source": [
        "<a href=\"https://colab.research.google.com/github/swansonk14/chemprop-intro/blob/master/lab1/random_forest.ipynb\" target=\"_parent\"><img src=\"https://colab.research.google.com/assets/colab-badge.svg\" alt=\"Open In Colab\"/></a>"
      ]
    },
    {
      "metadata": {
        "id": "fWzc8taU_wfk",
        "colab_type": "code",
        "colab": {}
      },
      "cell_type": "code",
      "source": [
        "# Random Forest on Morgan Fingerprint"
      ],
      "execution_count": 0,
      "outputs": []
    },
    {
      "metadata": {
        "id": "G7Yw-FhrOcHs",
        "colab_type": "code",
        "colab": {
          "base_uri": "https://localhost:8080/",
          "height": 3145
        },
        "outputId": "6e3e9114-28ac-4179-fd51-37e4c2c8beb6"
      },
      "cell_type": "code",
      "source": [
        "!wget -c https://repo.anaconda.com/miniconda/Miniconda3-latest-Linux-x86_64.sh\n",
        "!chmod +x Miniconda3-latest-Linux-x86_64.sh\n",
        "!bash ./Miniconda3-latest-Linux-x86_64.sh -b -f -p /usr/local\n",
        "!conda install -q -y --prefix /usr/local -c rdkit rdkit scikit-learn\n",
        "\n",
        "import sys\n",
        "sys.path.append('/usr/local/lib/python3.6/site-packages/')"
      ],
      "execution_count": 2,
      "outputs": [
        {
          "output_type": "stream",
          "text": [
            "--2018-12-27 06:04:04--  https://repo.anaconda.com/miniconda/Miniconda3-latest-Linux-x86_64.sh\n",
            "Resolving repo.anaconda.com (repo.anaconda.com)... 104.17.110.77, 104.17.111.77, 104.17.109.77, ...\n",
            "Connecting to repo.anaconda.com (repo.anaconda.com)|104.17.110.77|:443... connected.\n",
            "HTTP request sent, awaiting response... 200 OK\n",
            "Length: 62574861 (60M) [application/x-sh]\n",
            "Saving to: ‘Miniconda3-latest-Linux-x86_64.sh’\n",
            "\n",
            "\r          Miniconda   0%[                    ]       0  --.-KB/s               \r         Miniconda3  30%[=====>              ]  18.32M  90.1MB/s               \r        Miniconda3-  93%[=================>  ]  55.80M   138MB/s               \rMiniconda3-latest-L 100%[===================>]  59.68M   141MB/s    in 0.4s    \n",
            "\n",
            "2018-12-27 06:04:05 (141 MB/s) - ‘Miniconda3-latest-Linux-x86_64.sh’ saved [62574861/62574861]\n",
            "\n",
            "PREFIX=/usr/local\n",
            "reinstalling: python-3.7.0-hc3d631a_0 ...\n",
            "Python 3.7.0\n",
            "reinstalling: ca-certificates-2018.03.07-0 ...\n",
            "reinstalling: conda-env-2.6.0-1 ...\n",
            "reinstalling: libgcc-ng-8.2.0-hdf63c60_1 ...\n",
            "reinstalling: libstdcxx-ng-8.2.0-hdf63c60_1 ...\n",
            "reinstalling: libffi-3.2.1-hd88cf55_4 ...\n",
            "reinstalling: ncurses-6.1-hf484d3e_0 ...\n",
            "reinstalling: openssl-1.0.2p-h14c3975_0 ...\n",
            "reinstalling: xz-5.2.4-h14c3975_4 ...\n",
            "reinstalling: yaml-0.1.7-had09818_2 ...\n",
            "reinstalling: zlib-1.2.11-ha838bed_2 ...\n",
            "reinstalling: libedit-3.1.20170329-h6b74fdf_2 ...\n",
            "reinstalling: readline-7.0-h7b6447c_5 ...\n",
            "reinstalling: tk-8.6.8-hbc83047_0 ...\n",
            "reinstalling: sqlite-3.24.0-h84994c4_0 ...\n",
            "reinstalling: asn1crypto-0.24.0-py37_0 ...\n",
            "reinstalling: certifi-2018.8.24-py37_1 ...\n",
            "reinstalling: chardet-3.0.4-py37_1 ...\n",
            "reinstalling: idna-2.7-py37_0 ...\n",
            "reinstalling: pycosat-0.6.3-py37h14c3975_0 ...\n",
            "reinstalling: pycparser-2.18-py37_1 ...\n",
            "reinstalling: pysocks-1.6.8-py37_0 ...\n",
            "reinstalling: ruamel_yaml-0.15.46-py37h14c3975_0 ...\n",
            "reinstalling: six-1.11.0-py37_1 ...\n",
            "reinstalling: cffi-1.11.5-py37he75722e_1 ...\n",
            "reinstalling: setuptools-40.2.0-py37_0 ...\n",
            "reinstalling: cryptography-2.3.1-py37hc365091_0 ...\n",
            "reinstalling: wheel-0.31.1-py37_0 ...\n",
            "reinstalling: pip-10.0.1-py37_0 ...\n",
            "reinstalling: pyopenssl-18.0.0-py37_0 ...\n",
            "reinstalling: urllib3-1.23-py37_0 ...\n",
            "reinstalling: requests-2.19.1-py37_0 ...\n",
            "reinstalling: conda-4.5.11-py37_0 ...\n",
            "installation finished.\n",
            "WARNING:\n",
            "    You currently have a PYTHONPATH environment variable set. This may cause\n",
            "    unexpected behavior when running the Python interpreter in Miniconda3.\n",
            "    For best results, please verify that your PYTHONPATH only points to\n",
            "    directories of packages that are compatible with the Python interpreter\n",
            "    in Miniconda3: /usr/local\n",
            "Solving environment: ...working... done\n",
            "\n",
            "## Package Plan ##\n",
            "\n",
            "  environment location: /usr/local\n",
            "\n",
            "  added / updated specs: \n",
            "    - rdkit\n",
            "\n",
            "\n",
            "The following packages will be downloaded:\n",
            "\n",
            "    package                    |            build\n",
            "    ---------------------------|-----------------\n",
            "    mkl-2019.1                 |              144       204.6 MB\n",
            "    pandas-0.23.4              |   py36h04863e7_0        10.1 MB\n",
            "    intel-openmp-2019.1        |              144         885 KB\n",
            "    pip-18.1                   |           py36_0         1.8 MB\n",
            "    python-3.6.7               |       h0371630_0        34.3 MB\n",
            "    requests-2.21.0            |           py36_0          85 KB\n",
            "    fontconfig-2.13.0          |       h9420a91_0         291 KB\n",
            "    jpeg-9b                    |       h024ee3a_2         248 KB\n",
            "    freetype-2.9.1             |       h8a8886c_1         822 KB\n",
            "    libxml2-2.9.8              |       h26e45fe_1         2.0 MB\n",
            "    openssl-1.1.1a             |       h7b6447c_0         5.0 MB\n",
            "    numpy-base-1.15.4          |   py36hde5b4d6_0         4.3 MB\n",
            "    pixman-0.34.0              |       hceecf20_3         598 KB\n",
            "    pycosat-0.6.3              |   py36h14c3975_0         104 KB\n",
            "    wheel-0.32.3               |           py36_0          35 KB\n",
            "    certifi-2018.11.29         |           py36_0         146 KB\n",
            "    libpng-1.6.35              |       hbc83047_0         335 KB\n",
            "    blas-1.0                   |              mkl           6 KB\n",
            "    python-dateutil-2.7.5      |           py36_0         275 KB\n",
            "    chardet-3.0.4              |           py36_1         189 KB\n",
            "    olefile-0.46               |           py36_0          48 KB\n",
            "    pysocks-1.6.8              |           py36_0          22 KB\n",
            "    bzip2-1.0.6                |       h14c3975_5         414 KB\n",
            "    asn1crypto-0.24.0          |           py36_0         155 KB\n",
            "    icu-58.2                   |       h9c2bf20_1        22.5 MB\n",
            "    six-1.12.0                 |           py36_0          22 KB\n",
            "    sqlite-3.26.0              |       h7b6447c_0         1.9 MB\n",
            "    libtiff-4.0.9              |       he85c1e1_2         567 KB\n",
            "    pycparser-2.19             |           py36_0         174 KB\n",
            "    libxcb-1.13                |       h1bed415_1         502 KB\n",
            "    pytz-2018.7                |           py36_0         250 KB\n",
            "    mkl_random-1.0.2           |   py36hd81dba3_0         407 KB\n",
            "    pyopenssl-18.0.0           |           py36_0          82 KB\n",
            "    libuuid-1.0.3              |       h1bed415_2          16 KB\n",
            "    cryptography-2.4.2         |   py36h1ba5d50_0         618 KB\n",
            "    urllib3-1.24.1             |           py36_0         149 KB\n",
            "    py-boost-1.65.1            |   py36hf484d3e_4         297 KB\n",
            "    idna-2.8                   |           py36_0         133 KB\n",
            "    rdkit-2018.09.1.0          |   py36h71b666b_1        20.2 MB  rdkit\n",
            "    cairo-1.14.12              |       h8948797_3         1.3 MB\n",
            "    numpy-1.15.4               |   py36h7e9f1db_0          47 KB\n",
            "    pillow-5.3.0               |   py36h34e0f95_0         599 KB\n",
            "    cffi-1.11.5                |   py36he75722e_1         212 KB\n",
            "    libboost-1.65.1            |       habcd387_4        19.2 MB\n",
            "    conda-4.5.12               |           py36_0         1.0 MB\n",
            "    mkl_fft-1.0.6              |   py36hd81dba3_0         197 KB\n",
            "    setuptools-40.6.3          |           py36_0         625 KB\n",
            "    pcre-8.42                  |       h439df22_0         251 KB\n",
            "    libgfortran-ng-7.3.0       |       hdf63c60_0         1.3 MB\n",
            "    glib-2.56.2                |       hd408876_0         5.0 MB\n",
            "    ruamel_yaml-0.15.46        |   py36h14c3975_0         245 KB\n",
            "    ------------------------------------------------------------\n",
            "                                           Total:       344.2 MB\n",
            "\n",
            "The following NEW packages will be INSTALLED:\n",
            "\n",
            "    blas:            1.0-mkl                         \n",
            "    bzip2:           1.0.6-h14c3975_5                \n",
            "    cairo:           1.14.12-h8948797_3              \n",
            "    fontconfig:      2.13.0-h9420a91_0               \n",
            "    freetype:        2.9.1-h8a8886c_1                \n",
            "    glib:            2.56.2-hd408876_0               \n",
            "    icu:             58.2-h9c2bf20_1                 \n",
            "    intel-openmp:    2019.1-144                      \n",
            "    jpeg:            9b-h024ee3a_2                   \n",
            "    libboost:        1.65.1-habcd387_4               \n",
            "    libgfortran-ng:  7.3.0-hdf63c60_0                \n",
            "    libpng:          1.6.35-hbc83047_0               \n",
            "    libtiff:         4.0.9-he85c1e1_2                \n",
            "    libuuid:         1.0.3-h1bed415_2                \n",
            "    libxcb:          1.13-h1bed415_1                 \n",
            "    libxml2:         2.9.8-h26e45fe_1                \n",
            "    mkl:             2019.1-144                      \n",
            "    mkl_fft:         1.0.6-py36hd81dba3_0            \n",
            "    mkl_random:      1.0.2-py36hd81dba3_0            \n",
            "    numpy:           1.15.4-py36h7e9f1db_0           \n",
            "    numpy-base:      1.15.4-py36hde5b4d6_0           \n",
            "    olefile:         0.46-py36_0                     \n",
            "    pandas:          0.23.4-py36h04863e7_0           \n",
            "    pcre:            8.42-h439df22_0                 \n",
            "    pillow:          5.3.0-py36h34e0f95_0            \n",
            "    pixman:          0.34.0-hceecf20_3               \n",
            "    py-boost:        1.65.1-py36hf484d3e_4           \n",
            "    python-dateutil: 2.7.5-py36_0                    \n",
            "    pytz:            2018.7-py36_0                   \n",
            "    rdkit:           2018.09.1.0-py36h71b666b_1 rdkit\n",
            "\n",
            "The following packages will be UPDATED:\n",
            "\n",
            "    asn1crypto:      0.24.0-py37_0                    --> 0.24.0-py36_0         \n",
            "    certifi:         2018.8.24-py37_1                 --> 2018.11.29-py36_0     \n",
            "    cffi:            1.11.5-py37he75722e_1            --> 1.11.5-py36he75722e_1 \n",
            "    chardet:         3.0.4-py37_1                     --> 3.0.4-py36_1          \n",
            "    conda:           4.5.11-py37_0                    --> 4.5.12-py36_0         \n",
            "    cryptography:    2.3.1-py37hc365091_0             --> 2.4.2-py36h1ba5d50_0  \n",
            "    idna:            2.7-py37_0                       --> 2.8-py36_0            \n",
            "    openssl:         1.0.2p-h14c3975_0                --> 1.1.1a-h7b6447c_0     \n",
            "    pip:             10.0.1-py37_0                    --> 18.1-py36_0           \n",
            "    pycosat:         0.6.3-py37h14c3975_0             --> 0.6.3-py36h14c3975_0  \n",
            "    pycparser:       2.18-py37_1                      --> 2.19-py36_0           \n",
            "    pyopenssl:       18.0.0-py37_0                    --> 18.0.0-py36_0         \n",
            "    pysocks:         1.6.8-py37_0                     --> 1.6.8-py36_0          \n",
            "    requests:        2.19.1-py37_0                    --> 2.21.0-py36_0         \n",
            "    ruamel_yaml:     0.15.46-py37h14c3975_0           --> 0.15.46-py36h14c3975_0\n",
            "    setuptools:      40.2.0-py37_0                    --> 40.6.3-py36_0         \n",
            "    six:             1.11.0-py37_1                    --> 1.12.0-py36_0         \n",
            "    sqlite:          3.24.0-h84994c4_0                --> 3.26.0-h7b6447c_0     \n",
            "    urllib3:         1.23-py37_0                      --> 1.24.1-py36_0         \n",
            "    wheel:           0.31.1-py37_0                    --> 0.32.3-py36_0         \n",
            "\n",
            "The following packages will be DOWNGRADED:\n",
            "\n",
            "    python:          3.7.0-hc3d631a_0                 --> 3.6.7-h0371630_0      \n",
            "\n",
            "Preparing transaction: ...working... done\n",
            "Verifying transaction: ...working... done\n",
            "Executing transaction: ...working... done\n"
          ],
          "name": "stdout"
        }
      ]
    },
    {
      "metadata": {
        "id": "11ajIxSfT89P",
        "colab_type": "code",
        "colab": {}
      },
      "cell_type": "code",
      "source": [
        "import math\n",
        "import os\n",
        "import random\n",
        "from typing import Union, List, Dict\n",
        "\n",
        "import numpy as np\n",
        "from rdkit import Chem, DataStructs\n",
        "from rdkit.Chem import AllChem\n",
        "from sklearn.ensemble import RandomForestRegressor\n",
        "from sklearn.metrics import mean_squared_error"
      ],
      "execution_count": 0,
      "outputs": []
    },
    {
      "metadata": {
        "id": "82061CNz_-en",
        "colab_type": "code",
        "outputId": "b3758c05-5044-4913-86d4-473b36b2ce74",
        "colab": {
          "base_uri": "https://localhost:8080/",
          "height": 122
        }
      },
      "cell_type": "code",
      "source": [
        "from google.colab import drive\n",
        "drive.mount('/content/gdrive')"
      ],
      "execution_count": 3,
      "outputs": [
        {
          "output_type": "stream",
          "text": [
            "Go to this URL in a browser: https://accounts.google.com/o/oauth2/auth?client_id=947318989803-6bn6qk8qdgf4n4g3pfee6491hc0brc4i.apps.googleusercontent.com&redirect_uri=urn%3Aietf%3Awg%3Aoauth%3A2.0%3Aoob&scope=email%20https%3A%2F%2Fwww.googleapis.com%2Fauth%2Fdocs.test%20https%3A%2F%2Fwww.googleapis.com%2Fauth%2Fdrive%20https%3A%2F%2Fwww.googleapis.com%2Fauth%2Fdrive.photos.readonly%20https%3A%2F%2Fwww.googleapis.com%2Fauth%2Fpeopleapi.readonly&response_type=code\n",
            "\n",
            "Enter your authorization code:\n",
            "··········\n",
            "Mounted at /content/gdrive\n"
          ],
          "name": "stdout"
        }
      ]
    },
    {
      "metadata": {
        "id": "WzizVlZpLJhS",
        "colab_type": "code",
        "colab": {}
      },
      "cell_type": "code",
      "source": [
        "def get_data(data_dir: str, dataset: str = 'delaney', split: str = None) -> List[Dict[str, Union[str, float]]]:\n",
        "  data_name = '{}_{}.csv'.format(dataset, split) if split is not None else '{}.csv'.format(dataset)\n",
        "  data_path = os.path.join(data_dir, data_name)\n",
        "  with open(data_path) as f:\n",
        "    f.readline()\n",
        "    data = []\n",
        "    for line in f:\n",
        "      smiles, target = line.strip().split(',')\n",
        "      target = float(target)\n",
        "      data.append({\n",
        "          'smiles': smiles,\n",
        "          'target': target\n",
        "      })\n",
        "      \n",
        "  return data"
      ],
      "execution_count": 0,
      "outputs": []
    },
    {
      "metadata": {
        "id": "IBtqFXZ9UPkX",
        "colab_type": "code",
        "colab": {}
      },
      "cell_type": "code",
      "source": [
        "data_dir = '/content/gdrive/My Drive/Research/Chemistry/Classes'\n",
        "train, test = get_data(data_dir, split='train'), get_data(data_dir, split='test')"
      ],
      "execution_count": 0,
      "outputs": []
    },
    {
      "metadata": {
        "id": "XGSD_rXwNCkC",
        "colab_type": "code",
        "colab": {}
      },
      "cell_type": "code",
      "source": [
        "def morgan_fingerprint(smiles: str, radius: int = 3, num_bits: int = 2048) -> np.ndarray:\n",
        "  mol = Chem.MolFromSmiles(smiles)\n",
        "  morgan_vect = AllChem.GetMorganFingerprintAsBitVect(mol, radius, nBits=num_bits)\n",
        "  morgan_fp = np.zeros((1,))\n",
        "  DataStructs.ConvertToNumpyArray(morgan_vect, morgan_fp)\n",
        "  \n",
        "  return morgan_fp"
      ],
      "execution_count": 0,
      "outputs": []
    },
    {
      "metadata": {
        "id": "_EkDVZslNDa9",
        "colab_type": "code",
        "colab": {}
      },
      "cell_type": "code",
      "source": [
        "for dataset in [train, test]:\n",
        "  for datapoint in dataset:\n",
        "    datapoint['morgan'] = morgan_fingerprint(datapoint['smiles'])"
      ],
      "execution_count": 0,
      "outputs": []
    },
    {
      "metadata": {
        "id": "iP1322zGSXOs",
        "colab_type": "code",
        "colab": {}
      },
      "cell_type": "code",
      "source": [
        "X_train, Y_train = [datapoint['morgan'] for datapoint in train], [datapoint['target'] for datapoint in train]\n",
        "X_test, Y_test = [datapoint['morgan'] for datapoint in test], [datapoint['target'] for datapoint in test]"
      ],
      "execution_count": 0,
      "outputs": []
    },
    {
      "metadata": {
        "id": "L-BVDLuxS1NY",
        "colab_type": "code",
        "colab": {
          "base_uri": "https://localhost:8080/",
          "height": 153
        },
        "outputId": "a398d264-24c4-4bfb-8cad-734d2311c7fb"
      },
      "cell_type": "code",
      "source": [
        "model = RandomForestRegressor(random_state=42)\n",
        "model.fit(X_train, Y_train)"
      ],
      "execution_count": 66,
      "outputs": [
        {
          "output_type": "stream",
          "text": [
            "/usr/local/lib/python3.6/dist-packages/sklearn/ensemble/forest.py:246: FutureWarning: The default value of n_estimators will change from 10 in version 0.20 to 100 in 0.22.\n",
            "  \"10 in version 0.20 to 100 in 0.22.\", FutureWarning)\n"
          ],
          "name": "stderr"
        },
        {
          "output_type": "execute_result",
          "data": {
            "text/plain": [
              "RandomForestRegressor(bootstrap=True, criterion='mse', max_depth=None,\n",
              "           max_features='auto', max_leaf_nodes=None,\n",
              "           min_impurity_decrease=0.0, min_impurity_split=None,\n",
              "           min_samples_leaf=1, min_samples_split=2,\n",
              "           min_weight_fraction_leaf=0.0, n_estimators=10, n_jobs=None,\n",
              "           oob_score=False, random_state=42, verbose=0, warm_start=False)"
            ]
          },
          "metadata": {
            "tags": []
          },
          "execution_count": 66
        }
      ]
    },
    {
      "metadata": {
        "id": "Yaaeiv1TWUiX",
        "colab_type": "code",
        "colab": {
          "base_uri": "https://localhost:8080/",
          "height": 34
        },
        "outputId": "6deba2e1-9829-4b5c-f7b0-5a3dfcad5ea8"
      },
      "cell_type": "code",
      "source": [
        "def rmse(targets: List[float], preds: List[float]) -> float:\n",
        "    return math.sqrt(mean_squared_error(targets, preds))\n",
        "\n",
        "Y_pred = model.predict(X_test)\n",
        "print('rmse = {:.4f}'.format(rmse(Y_test, Y_pred)))"
      ],
      "execution_count": 70,
      "outputs": [
        {
          "output_type": "stream",
          "text": [
            "rmse = 1.2125\n"
          ],
          "name": "stdout"
        }
      ]
    },
    {
      "metadata": {
        "id": "k8koU1XbXBVA",
        "colab_type": "code",
        "colab": {}
      },
      "cell_type": "code",
      "source": [
        ""
      ],
      "execution_count": 0,
      "outputs": []
    }
  ]
}