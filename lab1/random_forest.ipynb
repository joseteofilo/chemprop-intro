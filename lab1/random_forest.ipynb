{
  "nbformat": 4,
  "nbformat_minor": 0,
  "metadata": {
    "colab": {
      "name": "random_forest.ipynb",
      "version": "0.3.2",
      "provenance": [],
      "include_colab_link": true
    },
    "kernelspec": {
      "name": "python3",
      "display_name": "Python 3"
    }
  },
  "cells": [
    {
      "cell_type": "markdown",
      "metadata": {
        "id": "view-in-github",
        "colab_type": "text"
      },
      "source": [
        "<a href=\"https://colab.research.google.com/github/swansonk14/chemprop-intro/blob/master/lab1/random_forest.ipynb\" target=\"_parent\"><img src=\"https://colab.research.google.com/assets/colab-badge.svg\" alt=\"Open In Colab\"/></a>"
      ]
    },
    {
      "metadata": {
        "id": "yXAB2YFIhjZ7",
        "colab_type": "text"
      },
      "cell_type": "markdown",
      "source": [
        "# Random Forest on Morgan Fingerprint"
      ]
    },
    {
      "metadata": {
        "id": "G7Yw-FhrOcHs",
        "colab_type": "code",
        "outputId": "7cfb8ebb-e468-49ba-fd7c-90aa5abb4289",
        "colab": {
          "base_uri": "https://localhost:8080/",
          "height": 2278
        }
      },
      "cell_type": "code",
      "source": [
        "!wget -c https://repo.anaconda.com/miniconda/Miniconda3-latest-Linux-x86_64.sh\n",
        "!chmod +x Miniconda3-latest-Linux-x86_64.sh\n",
        "!bash ./Miniconda3-latest-Linux-x86_64.sh -b -f -p /usr/local\n",
        "!conda install -q -y --prefix /usr/local -c rdkit rdkit scikit-learn\n",
        "\n",
        "import sys\n",
        "sys.path.append('/usr/local/lib/python3.6/site-packages/')\n",
        "\n",
        "!wget https://raw.githubusercontent.com/swansonk14/chemprop-intro/master/data/delaney_train.csv\n",
        "!wget https://raw.githubusercontent.com/swansonk14/chemprop-intro/master/data/delaney_test.csv"
      ],
      "execution_count": 1,
      "outputs": [
        {
          "output_type": "stream",
          "text": [
            "--2018-12-27 08:01:29--  https://repo.anaconda.com/miniconda/Miniconda3-latest-Linux-x86_64.sh\n",
            "Resolving repo.anaconda.com (repo.anaconda.com)... 104.17.111.77, 104.17.109.77, 104.17.110.77, ...\n",
            "Connecting to repo.anaconda.com (repo.anaconda.com)|104.17.111.77|:443... connected.\n",
            "HTTP request sent, awaiting response... 416 Requested Range Not Satisfiable\n",
            "\n",
            "    The file is already fully retrieved; nothing to do.\n",
            "\n",
            "PREFIX=/usr/local\n",
            "reinstalling: python-3.7.0-hc3d631a_0 ...\n",
            "Python 3.7.0\n",
            "reinstalling: ca-certificates-2018.03.07-0 ...\n",
            "reinstalling: conda-env-2.6.0-1 ...\n",
            "reinstalling: libgcc-ng-8.2.0-hdf63c60_1 ...\n",
            "reinstalling: libstdcxx-ng-8.2.0-hdf63c60_1 ...\n",
            "reinstalling: libffi-3.2.1-hd88cf55_4 ...\n",
            "reinstalling: ncurses-6.1-hf484d3e_0 ...\n",
            "reinstalling: openssl-1.0.2p-h14c3975_0 ...\n",
            "reinstalling: xz-5.2.4-h14c3975_4 ...\n",
            "reinstalling: yaml-0.1.7-had09818_2 ...\n",
            "reinstalling: zlib-1.2.11-ha838bed_2 ...\n",
            "reinstalling: libedit-3.1.20170329-h6b74fdf_2 ...\n",
            "reinstalling: readline-7.0-h7b6447c_5 ...\n",
            "reinstalling: tk-8.6.8-hbc83047_0 ...\n",
            "reinstalling: sqlite-3.24.0-h84994c4_0 ...\n",
            "reinstalling: asn1crypto-0.24.0-py37_0 ...\n",
            "reinstalling: certifi-2018.8.24-py37_1 ...\n",
            "reinstalling: chardet-3.0.4-py37_1 ...\n",
            "reinstalling: idna-2.7-py37_0 ...\n",
            "reinstalling: pycosat-0.6.3-py37h14c3975_0 ...\n",
            "reinstalling: pycparser-2.18-py37_1 ...\n",
            "reinstalling: pysocks-1.6.8-py37_0 ...\n",
            "reinstalling: ruamel_yaml-0.15.46-py37h14c3975_0 ...\n",
            "reinstalling: six-1.11.0-py37_1 ...\n",
            "reinstalling: cffi-1.11.5-py37he75722e_1 ...\n",
            "reinstalling: setuptools-40.2.0-py37_0 ...\n",
            "reinstalling: cryptography-2.3.1-py37hc365091_0 ...\n",
            "reinstalling: wheel-0.31.1-py37_0 ...\n",
            "reinstalling: pip-10.0.1-py37_0 ...\n",
            "reinstalling: pyopenssl-18.0.0-py37_0 ...\n",
            "reinstalling: urllib3-1.23-py37_0 ...\n",
            "reinstalling: requests-2.19.1-py37_0 ...\n",
            "reinstalling: conda-4.5.11-py37_0 ...\n",
            "unlinking: asn1crypto-0.24.0-py36_0\n",
            "unlinking: certifi-2018.11.29-py36_0\n",
            "unlinking: cffi-1.11.5-py36he75722e_1\n",
            "unlinking: chardet-3.0.4-py36_1\n",
            "unlinking: conda-4.5.12-py36_0\n",
            "unlinking: cryptography-2.4.2-py36h1ba5d50_0\n",
            "unlinking: idna-2.8-py36_0\n",
            "unlinking: openssl-1.1.1a-h7b6447c_0\n",
            "unlinking: pip-18.1-py36_0\n",
            "unlinking: pycosat-0.6.3-py36h14c3975_0\n",
            "unlinking: pycparser-2.19-py36_0\n",
            "unlinking: pyopenssl-18.0.0-py36_0\n",
            "unlinking: pysocks-1.6.8-py36_0\n",
            "unlinking: python-3.6.7-h0371630_0\n",
            "unlinking: requests-2.21.0-py36_0\n",
            "unlinking: ruamel_yaml-0.15.46-py36h14c3975_0\n",
            "unlinking: setuptools-40.6.3-py36_0\n",
            "unlinking: six-1.12.0-py36_0\n",
            "unlinking: sqlite-3.26.0-h7b6447c_0\n",
            "unlinking: urllib3-1.24.1-py36_0\n",
            "unlinking: wheel-0.32.3-py36_0\n",
            "installation finished.\n",
            "WARNING:\n",
            "    You currently have a PYTHONPATH environment variable set. This may cause\n",
            "    unexpected behavior when running the Python interpreter in Miniconda3.\n",
            "    For best results, please verify that your PYTHONPATH only points to\n",
            "    directories of packages that are compatible with the Python interpreter\n",
            "    in Miniconda3: /usr/local\n",
            "Solving environment: ...working... done\n",
            "\n",
            "## Package Plan ##\n",
            "\n",
            "  environment location: /usr/local\n",
            "\n",
            "  added / updated specs: \n",
            "    - rdkit\n",
            "    - scikit-learn\n",
            "\n",
            "\n",
            "The following packages will be UPDATED:\n",
            "\n",
            "    asn1crypto:   0.24.0-py37_0          --> 0.24.0-py36_0         \n",
            "    certifi:      2018.8.24-py37_1       --> 2018.11.29-py36_0     \n",
            "    cffi:         1.11.5-py37he75722e_1  --> 1.11.5-py36he75722e_1 \n",
            "    chardet:      3.0.4-py37_1           --> 3.0.4-py36_1          \n",
            "    conda:        4.5.11-py37_0          --> 4.5.12-py36_0         \n",
            "    cryptography: 2.3.1-py37hc365091_0   --> 2.4.2-py36h1ba5d50_0  \n",
            "    idna:         2.7-py37_0             --> 2.8-py36_0            \n",
            "    openssl:      1.0.2p-h14c3975_0      --> 1.1.1a-h7b6447c_0     \n",
            "    pip:          10.0.1-py37_0          --> 18.1-py36_0           \n",
            "    pycosat:      0.6.3-py37h14c3975_0   --> 0.6.3-py36h14c3975_0  \n",
            "    pycparser:    2.18-py37_1            --> 2.19-py36_0           \n",
            "    pyopenssl:    18.0.0-py37_0          --> 18.0.0-py36_0         \n",
            "    pysocks:      1.6.8-py37_0           --> 1.6.8-py36_0          \n",
            "    requests:     2.19.1-py37_0          --> 2.21.0-py36_0         \n",
            "    ruamel_yaml:  0.15.46-py37h14c3975_0 --> 0.15.46-py36h14c3975_0\n",
            "    setuptools:   40.2.0-py37_0          --> 40.6.3-py36_0         \n",
            "    six:          1.11.0-py37_1          --> 1.12.0-py36_0         \n",
            "    sqlite:       3.24.0-h84994c4_0      --> 3.26.0-h7b6447c_0     \n",
            "    urllib3:      1.23-py37_0            --> 1.24.1-py36_0         \n",
            "    wheel:        0.31.1-py37_0          --> 0.32.3-py36_0         \n",
            "\n",
            "The following packages will be DOWNGRADED:\n",
            "\n",
            "    python:       3.7.0-hc3d631a_0       --> 3.6.7-h0371630_0      \n",
            "\n",
            "Preparing transaction: ...working... done\n",
            "Verifying transaction: ...working... done\n",
            "Executing transaction: ...working... done\n",
            "--2018-12-27 08:02:15--  https://raw.githubusercontent.com/swansonk14/chemprop-intro/master/data/delaney_train.csv\n",
            "Resolving raw.githubusercontent.com (raw.githubusercontent.com)... 151.101.0.133, 151.101.64.133, 151.101.128.133, ...\n",
            "Connecting to raw.githubusercontent.com (raw.githubusercontent.com)|151.101.0.133|:443... connected.\n",
            "HTTP request sent, awaiting response... 200 OK\n",
            "Length: 27140 (27K) [text/plain]\n",
            "Saving to: ‘delaney_train.csv.1’\n",
            "\n",
            "delaney_train.csv.1 100%[===================>]  26.50K  --.-KB/s    in 0.007s  \n",
            "\n",
            "2018-12-27 08:02:15 (3.59 MB/s) - ‘delaney_train.csv.1’ saved [27140/27140]\n",
            "\n",
            "--2018-12-27 08:02:16--  https://raw.githubusercontent.com/swansonk14/chemprop-intro/master/data/delaney_test.csv\n",
            "Resolving raw.githubusercontent.com (raw.githubusercontent.com)... 151.101.0.133, 151.101.64.133, 151.101.128.133, ...\n",
            "Connecting to raw.githubusercontent.com (raw.githubusercontent.com)|151.101.0.133|:443... connected.\n",
            "HTTP request sent, awaiting response... 200 OK\n",
            "Length: 3469 (3.4K) [text/plain]\n",
            "Saving to: ‘delaney_test.csv.1’\n",
            "\n",
            "delaney_test.csv.1  100%[===================>]   3.39K  --.-KB/s    in 0s      \n",
            "\n",
            "2018-12-27 08:02:16 (51.7 MB/s) - ‘delaney_test.csv.1’ saved [3469/3469]\n",
            "\n"
          ],
          "name": "stdout"
        }
      ]
    },
    {
      "metadata": {
        "id": "11ajIxSfT89P",
        "colab_type": "code",
        "colab": {}
      },
      "cell_type": "code",
      "source": [
        "import math\n",
        "import os\n",
        "import random\n",
        "from typing import Union, List, Dict\n",
        "\n",
        "import numpy as np\n",
        "from rdkit import Chem, DataStructs\n",
        "from rdkit.Chem import AllChem\n",
        "from sklearn.ensemble import RandomForestRegressor\n",
        "from sklearn.metrics import mean_squared_error"
      ],
      "execution_count": 0,
      "outputs": []
    },
    {
      "metadata": {
        "id": "G4SXr5xPa2ws",
        "colab_type": "code",
        "colab": {}
      },
      "cell_type": "code",
      "source": [
        "def morgan_fingerprint(smiles: str, radius: int = 3, num_bits: int = 2048) -> np.ndarray:\n",
        "  mol = Chem.MolFromSmiles(smiles)\n",
        "  morgan_vect = AllChem.GetMorganFingerprintAsBitVect(mol, radius, nBits=num_bits)\n",
        "  morgan_fp = np.zeros((1,))\n",
        "  DataStructs.ConvertToNumpyArray(morgan_vect, morgan_fp)\n",
        "  \n",
        "  return morgan_fp"
      ],
      "execution_count": 0,
      "outputs": []
    },
    {
      "metadata": {
        "id": "vmEOLbj-a0G_",
        "colab_type": "code",
        "colab": {}
      },
      "cell_type": "code",
      "source": [
        "class MoleculeDatapoint:\n",
        "  def __init__(self, smiles: str, target: float):\n",
        "    self.smiles = smiles\n",
        "    self.target = target\n",
        "    self.morgan = morgan_fingerprint(smiles)\n",
        "    \n",
        "class MoleculeDataset:\n",
        "  def __init__(self, data: List[MoleculeDatapoint]):\n",
        "    self.data = data\n",
        "    \n",
        "  def smiles(self) -> List[str]:\n",
        "    return [d.smiles for d in self.data]\n",
        "  \n",
        "  def targets(self) -> List[float]:\n",
        "    return [d.target for d in self.data]\n",
        "  \n",
        "  def morgans(self) -> List[np.ndarray]:\n",
        "    return [d.morgan for d in self.data]"
      ],
      "execution_count": 0,
      "outputs": []
    },
    {
      "metadata": {
        "id": "PgP0FAWyax41",
        "colab_type": "code",
        "colab": {}
      },
      "cell_type": "code",
      "source": [
        "def get_data(split: str) -> MoleculeDataset:\n",
        "  data_path = 'delaney_{}.csv'.format(split)\n",
        "  with open(data_path) as f:\n",
        "    f.readline()\n",
        "    data = []\n",
        "    for line in f:\n",
        "      smiles, target = line.strip().split(',')\n",
        "      target = float(target)\n",
        "      data.append(MoleculeDatapoint(smiles, target))\n",
        "      \n",
        "  return MoleculeDataset(data)"
      ],
      "execution_count": 0,
      "outputs": []
    },
    {
      "metadata": {
        "id": "IBtqFXZ9UPkX",
        "colab_type": "code",
        "colab": {}
      },
      "cell_type": "code",
      "source": [
        "train_data, test_data = get_data('train'), get_data('test')"
      ],
      "execution_count": 0,
      "outputs": []
    },
    {
      "metadata": {
        "id": "L-BVDLuxS1NY",
        "colab_type": "code",
        "outputId": "233d7286-30d8-4b77-f53f-5baade409606",
        "colab": {
          "base_uri": "https://localhost:8080/",
          "height": 153
        }
      },
      "cell_type": "code",
      "source": [
        "model = RandomForestRegressor(random_state=42)\n",
        "model.fit(train_data.morgans(), train_data.targets())"
      ],
      "execution_count": 7,
      "outputs": [
        {
          "output_type": "stream",
          "text": [
            "/usr/local/lib/python3.6/dist-packages/sklearn/ensemble/forest.py:246: FutureWarning: The default value of n_estimators will change from 10 in version 0.20 to 100 in 0.22.\n",
            "  \"10 in version 0.20 to 100 in 0.22.\", FutureWarning)\n"
          ],
          "name": "stderr"
        },
        {
          "output_type": "execute_result",
          "data": {
            "text/plain": [
              "RandomForestRegressor(bootstrap=True, criterion='mse', max_depth=None,\n",
              "           max_features='auto', max_leaf_nodes=None,\n",
              "           min_impurity_decrease=0.0, min_impurity_split=None,\n",
              "           min_samples_leaf=1, min_samples_split=2,\n",
              "           min_weight_fraction_leaf=0.0, n_estimators=10, n_jobs=None,\n",
              "           oob_score=False, random_state=42, verbose=0, warm_start=False)"
            ]
          },
          "metadata": {
            "tags": []
          },
          "execution_count": 7
        }
      ]
    },
    {
      "metadata": {
        "id": "Yaaeiv1TWUiX",
        "colab_type": "code",
        "outputId": "8fa82b96-8bbf-4fb7-d2f2-0671e1981518",
        "colab": {
          "base_uri": "https://localhost:8080/",
          "height": 34
        }
      },
      "cell_type": "code",
      "source": [
        "def rmse(targets: List[float], preds: List[float]) -> float:\n",
        "    return math.sqrt(mean_squared_error(targets, preds))\n",
        "\n",
        "preds = model.predict(test_data.morgans())\n",
        "print('rmse = {:.4f}'.format(rmse(test_data.targets(), preds)))"
      ],
      "execution_count": 8,
      "outputs": [
        {
          "output_type": "stream",
          "text": [
            "rmse = 1.2125\n"
          ],
          "name": "stdout"
        }
      ]
    }
  ]
}