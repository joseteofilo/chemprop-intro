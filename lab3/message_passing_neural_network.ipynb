{
  "nbformat": 4,
  "nbformat_minor": 0,
  "metadata": {
    "colab": {
      "name": "message_passing_neural_network.ipynb",
      "version": "0.3.2",
      "provenance": [],
      "include_colab_link": true
    },
    "kernelspec": {
      "name": "python3",
      "display_name": "Python 3"
    }
  },
  "cells": [
    {
      "cell_type": "markdown",
      "metadata": {
        "id": "view-in-github",
        "colab_type": "text"
      },
      "source": [
        "<a href=\"https://colab.research.google.com/github/swansonk14/chemprop-intro/blob/master/lab3/message_passing_neural_network.ipynb\" target=\"_parent\"><img src=\"https://colab.research.google.com/assets/colab-badge.svg\" alt=\"Open In Colab\"/></a>"
      ]
    },
    {
      "metadata": {
        "id": "ATT0ccpSf8jX",
        "colab_type": "text"
      },
      "cell_type": "markdown",
      "source": [
        "# Message Passing Neural Network on Graph Structure"
      ]
    },
    {
      "metadata": {
        "id": "G7Yw-FhrOcHs",
        "colab_type": "code",
        "colab": {
          "base_uri": "https://localhost:8080/",
          "height": 3706
        },
        "outputId": "97c9de5f-a97d-4078-9118-a4d36f3a2f0e"
      },
      "cell_type": "code",
      "source": [
        "!wget -c https://repo.anaconda.com/miniconda/Miniconda3-latest-Linux-x86_64.sh\n",
        "!chmod +x Miniconda3-latest-Linux-x86_64.sh\n",
        "!bash ./Miniconda3-latest-Linux-x86_64.sh -b -f -p /usr/local\n",
        "!conda install -q -y --prefix /usr/local -c rdkit rdkit pytorch\n",
        "\n",
        "import sys\n",
        "sys.path.append('/usr/local/lib/python3.6/site-packages/')\n",
        "\n",
        "!wget https://raw.githubusercontent.com/swansonk14/chemprop-intro/master/data/delaney_train.csv\n",
        "!wget https://raw.githubusercontent.com/swansonk14/chemprop-intro/master/data/delaney_test.csv"
      ],
      "execution_count": 1,
      "outputs": [
        {
          "output_type": "stream",
          "text": [
            "--2018-12-28 00:31:44--  https://repo.anaconda.com/miniconda/Miniconda3-latest-Linux-x86_64.sh\n",
            "Resolving repo.anaconda.com (repo.anaconda.com)... 104.17.107.77, 104.17.109.77, 104.17.108.77, ...\n",
            "Connecting to repo.anaconda.com (repo.anaconda.com)|104.17.107.77|:443... connected.\n",
            "HTTP request sent, awaiting response... 200 OK\n",
            "Length: 62574861 (60M) [application/x-sh]\n",
            "Saving to: ‘Miniconda3-latest-Linux-x86_64.sh’\n",
            "\n",
            "Miniconda3-latest-L 100%[===================>]  59.68M   111MB/s    in 0.5s    \n",
            "\n",
            "2018-12-28 00:31:45 (111 MB/s) - ‘Miniconda3-latest-Linux-x86_64.sh’ saved [62574861/62574861]\n",
            "\n",
            "PREFIX=/usr/local\n",
            "reinstalling: python-3.7.0-hc3d631a_0 ...\n",
            "Python 3.7.0\n",
            "reinstalling: ca-certificates-2018.03.07-0 ...\n",
            "reinstalling: conda-env-2.6.0-1 ...\n",
            "reinstalling: libgcc-ng-8.2.0-hdf63c60_1 ...\n",
            "reinstalling: libstdcxx-ng-8.2.0-hdf63c60_1 ...\n",
            "reinstalling: libffi-3.2.1-hd88cf55_4 ...\n",
            "reinstalling: ncurses-6.1-hf484d3e_0 ...\n",
            "reinstalling: openssl-1.0.2p-h14c3975_0 ...\n",
            "reinstalling: xz-5.2.4-h14c3975_4 ...\n",
            "reinstalling: yaml-0.1.7-had09818_2 ...\n",
            "reinstalling: zlib-1.2.11-ha838bed_2 ...\n",
            "reinstalling: libedit-3.1.20170329-h6b74fdf_2 ...\n",
            "reinstalling: readline-7.0-h7b6447c_5 ...\n",
            "reinstalling: tk-8.6.8-hbc83047_0 ...\n",
            "reinstalling: sqlite-3.24.0-h84994c4_0 ...\n",
            "reinstalling: asn1crypto-0.24.0-py37_0 ...\n",
            "reinstalling: certifi-2018.8.24-py37_1 ...\n",
            "reinstalling: chardet-3.0.4-py37_1 ...\n",
            "reinstalling: idna-2.7-py37_0 ...\n",
            "reinstalling: pycosat-0.6.3-py37h14c3975_0 ...\n",
            "reinstalling: pycparser-2.18-py37_1 ...\n",
            "reinstalling: pysocks-1.6.8-py37_0 ...\n",
            "reinstalling: ruamel_yaml-0.15.46-py37h14c3975_0 ...\n",
            "reinstalling: six-1.11.0-py37_1 ...\n",
            "reinstalling: cffi-1.11.5-py37he75722e_1 ...\n",
            "reinstalling: setuptools-40.2.0-py37_0 ...\n",
            "reinstalling: cryptography-2.3.1-py37hc365091_0 ...\n",
            "reinstalling: wheel-0.31.1-py37_0 ...\n",
            "reinstalling: pip-10.0.1-py37_0 ...\n",
            "reinstalling: pyopenssl-18.0.0-py37_0 ...\n",
            "reinstalling: urllib3-1.23-py37_0 ...\n",
            "reinstalling: requests-2.19.1-py37_0 ...\n",
            "reinstalling: conda-4.5.11-py37_0 ...\n",
            "installation finished.\n",
            "WARNING:\n",
            "    You currently have a PYTHONPATH environment variable set. This may cause\n",
            "    unexpected behavior when running the Python interpreter in Miniconda3.\n",
            "    For best results, please verify that your PYTHONPATH only points to\n",
            "    directories of packages that are compatible with the Python interpreter\n",
            "    in Miniconda3: /usr/local\n",
            "Solving environment: ...working... done\n",
            "\n",
            "## Package Plan ##\n",
            "\n",
            "  environment location: /usr/local\n",
            "\n",
            "  added / updated specs: \n",
            "    - pytorch\n",
            "    - rdkit\n",
            "\n",
            "\n",
            "The following packages will be downloaded:\n",
            "\n",
            "    package                    |            build\n",
            "    ---------------------------|-----------------\n",
            "    bzip2-1.0.6                |       h14c3975_5         414 KB\n",
            "    ninja-1.8.2                |   py36h6bb024c_1         1.3 MB\n",
            "    olefile-0.46               |           py36_0          48 KB\n",
            "    pycosat-0.6.3              |   py36h14c3975_0         104 KB\n",
            "    setuptools-40.6.3          |           py36_0         625 KB\n",
            "    urllib3-1.24.1             |           py36_0         149 KB\n",
            "    py-boost-1.65.1            |   py36hf484d3e_4         297 KB\n",
            "    certifi-2018.11.29         |           py36_0         146 KB\n",
            "    pycparser-2.19             |           py36_0         174 KB\n",
            "    libuuid-1.0.3              |       h1bed415_2          16 KB\n",
            "    numpy-1.15.4               |   py36h1d66e8a_0          35 KB\n",
            "    cairo-1.14.12              |       h8948797_3         1.3 MB\n",
            "    cryptography-2.4.2         |   py36h1ba5d50_0         618 KB\n",
            "    pytorch-0.4.1              |   py36ha74772b_0       215.8 MB\n",
            "    fontconfig-2.13.0          |       h9420a91_0         291 KB\n",
            "    ruamel_yaml-0.15.46        |   py36h14c3975_0         245 KB\n",
            "    mkl-2018.0.3               |                1       198.7 MB\n",
            "    libgfortran-ng-7.3.0       |       hdf63c60_0         1.3 MB\n",
            "    icu-58.2                   |       h9c2bf20_1        22.5 MB\n",
            "    asn1crypto-0.24.0          |           py36_0         155 KB\n",
            "    cffi-1.11.5                |   py36he75722e_1         212 KB\n",
            "    cudatoolkit-9.0            |       h13b8566_0       340.4 MB\n",
            "    numpy-base-1.15.4          |   py36h81de0dd_0         4.2 MB\n",
            "    requests-2.21.0            |           py36_0          85 KB\n",
            "    pandas-0.23.4              |   py36h04863e7_0        10.1 MB\n",
            "    pip-18.1                   |           py36_0         1.8 MB\n",
            "    nccl-1.3.5                 |        cuda9.0_0         8.6 MB\n",
            "    mkl_fft-1.0.6              |   py36h7dd41cf_0         150 KB\n",
            "    libxcb-1.13                |       h1bed415_1         502 KB\n",
            "    pillow-5.3.0               |   py36h34e0f95_0         599 KB\n",
            "    intel-openmp-2019.1        |              144         885 KB\n",
            "    six-1.12.0                 |           py36_0          22 KB\n",
            "    libtiff-4.0.9              |       he85c1e1_2         567 KB\n",
            "    jpeg-9b                    |       h024ee3a_2         248 KB\n",
            "    cudnn-7.1.2                |        cuda9.0_0       367.8 MB\n",
            "    conda-4.5.12               |           py36_0         1.0 MB\n",
            "    sqlite-3.26.0              |       h7b6447c_0         1.9 MB\n",
            "    openssl-1.1.1a             |       h7b6447c_0         5.0 MB\n",
            "    pixman-0.34.0              |       hceecf20_3         598 KB\n",
            "    glib-2.56.2                |       hd408876_0         5.0 MB\n",
            "    pcre-8.42                  |       h439df22_0         251 KB\n",
            "    python-dateutil-2.7.5      |           py36_0         275 KB\n",
            "    libboost-1.65.1            |       habcd387_4        19.2 MB\n",
            "    pyopenssl-18.0.0           |           py36_0          82 KB\n",
            "    python-3.6.7               |       h0371630_0        34.3 MB\n",
            "    wheel-0.32.3               |           py36_0          35 KB\n",
            "    idna-2.8                   |           py36_0         133 KB\n",
            "    pysocks-1.6.8              |           py36_0          22 KB\n",
            "    blas-1.0                   |              mkl           6 KB\n",
            "    pytz-2018.7                |           py36_0         250 KB\n",
            "    rdkit-2018.09.1.0          |   py36h71b666b_1        20.2 MB  rdkit\n",
            "    freetype-2.9.1             |       h8a8886c_1         822 KB\n",
            "    mkl_random-1.0.1           |   py36h4414c95_1         373 KB\n",
            "    chardet-3.0.4              |           py36_1         189 KB\n",
            "    libpng-1.6.35              |       hbc83047_0         335 KB\n",
            "    libxml2-2.9.8              |       h26e45fe_1         2.0 MB\n",
            "    ------------------------------------------------------------\n",
            "                                           Total:        1.24 GB\n",
            "\n",
            "The following NEW packages will be INSTALLED:\n",
            "\n",
            "    blas:            1.0-mkl                         \n",
            "    bzip2:           1.0.6-h14c3975_5                \n",
            "    cairo:           1.14.12-h8948797_3              \n",
            "    cudatoolkit:     9.0-h13b8566_0                  \n",
            "    cudnn:           7.1.2-cuda9.0_0                 \n",
            "    fontconfig:      2.13.0-h9420a91_0               \n",
            "    freetype:        2.9.1-h8a8886c_1                \n",
            "    glib:            2.56.2-hd408876_0               \n",
            "    icu:             58.2-h9c2bf20_1                 \n",
            "    intel-openmp:    2019.1-144                      \n",
            "    jpeg:            9b-h024ee3a_2                   \n",
            "    libboost:        1.65.1-habcd387_4               \n",
            "    libgfortran-ng:  7.3.0-hdf63c60_0                \n",
            "    libpng:          1.6.35-hbc83047_0               \n",
            "    libtiff:         4.0.9-he85c1e1_2                \n",
            "    libuuid:         1.0.3-h1bed415_2                \n",
            "    libxcb:          1.13-h1bed415_1                 \n",
            "    libxml2:         2.9.8-h26e45fe_1                \n",
            "    mkl:             2018.0.3-1                      \n",
            "    mkl_fft:         1.0.6-py36h7dd41cf_0            \n",
            "    mkl_random:      1.0.1-py36h4414c95_1            \n",
            "    nccl:            1.3.5-cuda9.0_0                 \n",
            "    ninja:           1.8.2-py36h6bb024c_1            \n",
            "    numpy:           1.15.4-py36h1d66e8a_0           \n",
            "    numpy-base:      1.15.4-py36h81de0dd_0           \n",
            "    olefile:         0.46-py36_0                     \n",
            "    pandas:          0.23.4-py36h04863e7_0           \n",
            "    pcre:            8.42-h439df22_0                 \n",
            "    pillow:          5.3.0-py36h34e0f95_0            \n",
            "    pixman:          0.34.0-hceecf20_3               \n",
            "    py-boost:        1.65.1-py36hf484d3e_4           \n",
            "    python-dateutil: 2.7.5-py36_0                    \n",
            "    pytorch:         0.4.1-py36ha74772b_0            \n",
            "    pytz:            2018.7-py36_0                   \n",
            "    rdkit:           2018.09.1.0-py36h71b666b_1 rdkit\n",
            "\n",
            "The following packages will be UPDATED:\n",
            "\n",
            "    asn1crypto:      0.24.0-py37_0                    --> 0.24.0-py36_0         \n",
            "    certifi:         2018.8.24-py37_1                 --> 2018.11.29-py36_0     \n",
            "    cffi:            1.11.5-py37he75722e_1            --> 1.11.5-py36he75722e_1 \n",
            "    chardet:         3.0.4-py37_1                     --> 3.0.4-py36_1          \n",
            "    conda:           4.5.11-py37_0                    --> 4.5.12-py36_0         \n",
            "    cryptography:    2.3.1-py37hc365091_0             --> 2.4.2-py36h1ba5d50_0  \n",
            "    idna:            2.7-py37_0                       --> 2.8-py36_0            \n",
            "    openssl:         1.0.2p-h14c3975_0                --> 1.1.1a-h7b6447c_0     \n",
            "    pip:             10.0.1-py37_0                    --> 18.1-py36_0           \n",
            "    pycosat:         0.6.3-py37h14c3975_0             --> 0.6.3-py36h14c3975_0  \n",
            "    pycparser:       2.18-py37_1                      --> 2.19-py36_0           \n",
            "    pyopenssl:       18.0.0-py37_0                    --> 18.0.0-py36_0         \n",
            "    pysocks:         1.6.8-py37_0                     --> 1.6.8-py36_0          \n",
            "    requests:        2.19.1-py37_0                    --> 2.21.0-py36_0         \n",
            "    ruamel_yaml:     0.15.46-py37h14c3975_0           --> 0.15.46-py36h14c3975_0\n",
            "    setuptools:      40.2.0-py37_0                    --> 40.6.3-py36_0         \n",
            "    six:             1.11.0-py37_1                    --> 1.12.0-py36_0         \n",
            "    sqlite:          3.24.0-h84994c4_0                --> 3.26.0-h7b6447c_0     \n",
            "    urllib3:         1.23-py37_0                      --> 1.24.1-py36_0         \n",
            "    wheel:           0.31.1-py37_0                    --> 0.32.3-py36_0         \n",
            "\n",
            "The following packages will be DOWNGRADED:\n",
            "\n",
            "    python:          3.7.0-hc3d631a_0                 --> 3.6.7-h0371630_0      \n",
            "\n",
            "Preparing transaction: ...working... done\n",
            "Verifying transaction: ...working... done\n",
            "Executing transaction: ...working... done\n",
            "--2018-12-28 00:38:38--  https://raw.githubusercontent.com/swansonk14/chemprop-intro/master/data/delaney_train.csv\n",
            "Resolving raw.githubusercontent.com (raw.githubusercontent.com)... 151.101.0.133, 151.101.64.133, 151.101.128.133, ...\n",
            "Connecting to raw.githubusercontent.com (raw.githubusercontent.com)|151.101.0.133|:443... connected.\n",
            "HTTP request sent, awaiting response... 200 OK\n",
            "Length: 27140 (27K) [text/plain]\n",
            "Saving to: ‘delaney_train.csv’\n",
            "\n",
            "delaney_train.csv   100%[===================>]  26.50K  --.-KB/s    in 0.01s   \n",
            "\n",
            "2018-12-28 00:38:38 (1.76 MB/s) - ‘delaney_train.csv’ saved [27140/27140]\n",
            "\n",
            "--2018-12-28 00:38:39--  https://raw.githubusercontent.com/swansonk14/chemprop-intro/master/data/delaney_test.csv\n",
            "Resolving raw.githubusercontent.com (raw.githubusercontent.com)... 151.101.0.133, 151.101.64.133, 151.101.128.133, ...\n",
            "Connecting to raw.githubusercontent.com (raw.githubusercontent.com)|151.101.0.133|:443... connected.\n",
            "HTTP request sent, awaiting response... 200 OK\n",
            "Length: 3469 (3.4K) [text/plain]\n",
            "Saving to: ‘delaney_test.csv’\n",
            "\n",
            "delaney_test.csv    100%[===================>]   3.39K  --.-KB/s    in 0s      \n",
            "\n",
            "2018-12-28 00:38:39 (54.7 MB/s) - ‘delaney_test.csv’ saved [3469/3469]\n",
            "\n"
          ],
          "name": "stdout"
        }
      ]
    },
    {
      "metadata": {
        "id": "11ajIxSfT89P",
        "colab_type": "code",
        "colab": {}
      },
      "cell_type": "code",
      "source": [
        "import math\n",
        "import os\n",
        "import random\n",
        "from typing import Union, List, Dict\n",
        "\n",
        "import numpy as np\n",
        "from rdkit import Chem, DataStructs\n",
        "from rdkit.Chem import AllChem\n",
        "from sklearn.metrics import mean_squared_error\n",
        "import torch\n",
        "import torch.nn as nn\n",
        "import torch.nn.functional as F\n",
        "from torch import optim"
      ],
      "execution_count": 0,
      "outputs": []
    },
    {
      "metadata": {
        "id": "82061CNz_-en",
        "colab_type": "code",
        "colab": {
          "base_uri": "https://localhost:8080/",
          "height": 122
        },
        "outputId": "5cc76c1e-2824-4daf-82a8-5f0c134546ac"
      },
      "cell_type": "code",
      "source": [
        "from google.colab import drive\n",
        "drive.mount('/content/gdrive')"
      ],
      "execution_count": 3,
      "outputs": [
        {
          "output_type": "stream",
          "text": [
            "Go to this URL in a browser: https://accounts.google.com/o/oauth2/auth?client_id=947318989803-6bn6qk8qdgf4n4g3pfee6491hc0brc4i.apps.googleusercontent.com&redirect_uri=urn%3Aietf%3Awg%3Aoauth%3A2.0%3Aoob&scope=email%20https%3A%2F%2Fwww.googleapis.com%2Fauth%2Fdocs.test%20https%3A%2F%2Fwww.googleapis.com%2Fauth%2Fdrive%20https%3A%2F%2Fwww.googleapis.com%2Fauth%2Fdrive.photos.readonly%20https%3A%2F%2Fwww.googleapis.com%2Fauth%2Fpeopleapi.readonly&response_type=code\n",
            "\n",
            "Enter your authorization code:\n",
            "··········\n",
            "Mounted at /content/gdrive\n"
          ],
          "name": "stdout"
        }
      ]
    },
    {
      "metadata": {
        "id": "J9UX9eTCZ4oJ",
        "colab_type": "code",
        "colab": {}
      },
      "cell_type": "code",
      "source": [
        "class MoleculeDatapoint:\n",
        "  def __init__(self, smiles: str, targets: List[float]):\n",
        "    self.smiles = smiles\n",
        "    self.targets = targets\n",
        "    \n",
        "class MoleculeDataset:\n",
        "  def __init__(self, data: List[MoleculeDatapoint]):\n",
        "    self.data = data\n",
        "    \n",
        "  def smiles(self) -> List[str]:\n",
        "    return [d.smiles for d in self.data]\n",
        "  \n",
        "  def targets(self) -> List[float]:\n",
        "    return [d.targets for d in self.data]\n",
        "  \n",
        "  def shuffle(self, seed: int = None):\n",
        "    if seed is not None:\n",
        "      random.seed(seed)\n",
        "    random.shuffle(self.data)\n",
        "  \n",
        "  def __len__(self) -> int:\n",
        "    return len(self.data)\n",
        "  \n",
        "  def __getitem__(self, item) -> MoleculeDatapoint:\n",
        "    return self.data[item]"
      ],
      "execution_count": 0,
      "outputs": []
    },
    {
      "metadata": {
        "id": "WzizVlZpLJhS",
        "colab_type": "code",
        "colab": {}
      },
      "cell_type": "code",
      "source": [
        "def get_data(split: str) -> MoleculeDataset:\n",
        "  data_path = 'delaney_{}.csv'.format(split)\n",
        "  with open(data_path) as f:\n",
        "    f.readline()\n",
        "    data = []\n",
        "    for line in f:\n",
        "      line = line.strip().split(',')\n",
        "      smiles, targets = line[0], line[1:]\n",
        "      targets = [float(target) for target in targets]\n",
        "      data.append(MoleculeDatapoint(smiles, targets))\n",
        "      \n",
        "  return MoleculeDataset(data)"
      ],
      "execution_count": 0,
      "outputs": []
    },
    {
      "metadata": {
        "id": "IBtqFXZ9UPkX",
        "colab_type": "code",
        "colab": {}
      },
      "cell_type": "code",
      "source": [
        "train_data, test_data = get_data('train'), get_data('test')"
      ],
      "execution_count": 0,
      "outputs": []
    },
    {
      "metadata": {
        "id": "UW4VtDlln5Zo",
        "colab_type": "code",
        "colab": {}
      },
      "cell_type": "code",
      "source": [
        "ELEM_LIST = range(100)\n",
        "HYBRID_LIST = [\n",
        "    Chem.rdchem.HybridizationType.SP, Chem.rdchem.HybridizationType.SP2,\n",
        "    Chem.rdchem.HybridizationType.SP3, Chem.rdchem.HybridizationType.SP3D,\n",
        "    Chem.rdchem.HybridizationType.SP3D2\n",
        "]\n",
        "ATOM_FDIM = 100 + len(HYBRID_LIST) + 6 + 5 + 4 + 7 + 5 + 3 + 1\n",
        "BOND_FDIM = 6 + 6\n",
        "MAX_NB = 12\n",
        "\n",
        "def onek_encoding_unk(x, allowable_set):\n",
        "    if x not in allowable_set:\n",
        "        x = allowable_set[-1]\n",
        "    return list(map(lambda s: x == s, allowable_set))\n",
        "\n",
        "def atom_features(atom):\n",
        "    return torch.Tensor(onek_encoding_unk(atom.GetAtomicNum() - 1, ELEM_LIST) \n",
        "            + onek_encoding_unk(atom.GetDegree(), [0,1,2,3,4,5]) \n",
        "            + onek_encoding_unk(atom.GetFormalCharge(), [-1,-2,1,2,0])\n",
        "            + onek_encoding_unk(int(atom.GetChiralTag()), [0,1,2,3])\n",
        "            + onek_encoding_unk(int(atom.GetImplicitValence()), [0,1,2,3,4,5,6])\n",
        "            + onek_encoding_unk(int(atom.GetTotalNumHs()), [0,1,2,3,4])\n",
        "            + onek_encoding_unk(int(atom.GetHybridization()), HYBRID_LIST)\n",
        "            + onek_encoding_unk(int(atom.GetNumRadicalElectrons()), [0,1,2])\n",
        "            + [atom.GetIsAromatic()])\n",
        "\n",
        "def bond_features(bond):\n",
        "    bt = bond.GetBondType()\n",
        "    stereo = int(bond.GetStereo())\n",
        "    fbond = [bt == Chem.rdchem.BondType.SINGLE, bt == Chem.rdchem.BondType.DOUBLE, bt == Chem.rdchem.BondType.TRIPLE, bt == Chem.rdchem.BondType.AROMATIC, bond.GetIsConjugated(), bond.IsInRing()]\n",
        "    fstereo = onek_encoding_unk(stereo, [0,1,2,3,4,5])\n",
        "    return torch.Tensor(fbond + fstereo)\n",
        "\n",
        "def mol2graph(mol_batch):\n",
        "    padding = torch.zeros(ATOM_FDIM + BOND_FDIM)\n",
        "    fatoms,fbonds = [],[padding] #Ensure bond is 1-indexed\n",
        "    in_bonds,all_bonds = [],[(-1,-1)] #Ensure bond is 1-indexed\n",
        "    scope = []\n",
        "    total_atoms = 0\n",
        "\n",
        "    for smiles in mol_batch:\n",
        "        mol = Chem.MolFromSmiles(smiles)\n",
        "        n_atoms = mol.GetNumAtoms()\n",
        "        for atom in mol.GetAtoms():\n",
        "            fatoms.append( atom_features(atom) )\n",
        "            in_bonds.append([])\n",
        "\n",
        "        for bond in mol.GetBonds():\n",
        "            a1 = bond.GetBeginAtom()\n",
        "            a2 = bond.GetEndAtom()\n",
        "            x = a1.GetIdx() + total_atoms\n",
        "            y = a2.GetIdx() + total_atoms\n",
        "\n",
        "            b = len(all_bonds) \n",
        "            all_bonds.append((x,y))\n",
        "            fbonds.append( torch.cat([fatoms[x], bond_features(bond)], 0) )\n",
        "            in_bonds[y].append(b)\n",
        "\n",
        "            b = len(all_bonds)\n",
        "            all_bonds.append((y,x))\n",
        "            fbonds.append( torch.cat([fatoms[y], bond_features(bond)], 0) )\n",
        "            in_bonds[x].append(b)\n",
        "\n",
        "        scope.append((total_atoms,n_atoms))\n",
        "        total_atoms += n_atoms\n",
        "\n",
        "    total_bonds = len(all_bonds)\n",
        "    fatoms = torch.stack(fatoms, 0)\n",
        "    fbonds = torch.stack(fbonds, 0)\n",
        "    agraph = torch.zeros(total_atoms,MAX_NB).long()\n",
        "    bgraph = torch.zeros(total_bonds,MAX_NB).long()\n",
        "\n",
        "    for a in range(total_atoms):\n",
        "        for i,b in enumerate(in_bonds[a]):\n",
        "            agraph[a,i] = b\n",
        "\n",
        "    for b1 in range(1, total_bonds):\n",
        "        x,y = all_bonds[b1]\n",
        "        for i,b2 in enumerate(in_bonds[x]):\n",
        "            if all_bonds[b2][0] != y:\n",
        "                bgraph[b1,i] = b2\n",
        "\n",
        "    return fatoms, fbonds, agraph, bgraph, scope\n",
        "\n",
        "def index_select_ND(source, dim, index):  # convenience method for selecting indices, used in MPN\n",
        "    index_size = index.size()\n",
        "    suffix_dim = source.size()[1:]\n",
        "    final_size = index_size + suffix_dim\n",
        "    target = source.index_select(dim, index.view(-1))\n",
        "    return target.view(final_size)"
      ],
      "execution_count": 0,
      "outputs": []
    },
    {
      "metadata": {
        "id": "vUT6Tl_CiVrM",
        "colab_type": "code",
        "colab": {}
      },
      "cell_type": "code",
      "source": [
        "num_epochs = 30\n",
        "batch_size = 50\n",
        "lr = .001"
      ],
      "execution_count": 0,
      "outputs": []
    },
    {
      "metadata": {
        "id": "iP1322zGSXOs",
        "colab_type": "code",
        "colab": {}
      },
      "cell_type": "code",
      "source": [
        "class MPN(nn.Module):\n",
        "  def __init__(self):\n",
        "    super(MPN, self).__init__()\n",
        "    self.hidden_size = 300\n",
        "    self.depth = 3\n",
        "    self.dropout = 0\n",
        "\n",
        "    self.W_i = nn.Linear(ATOM_FDIM + BOND_FDIM, self.hidden_size, bias=False)\n",
        "    self.W_h = nn.Linear(self.hidden_size, self.hidden_size, bias=False)\n",
        "    self.W_o = nn.Linear(ATOM_FDIM + self.hidden_size, self.hidden_size)\n",
        "    self.W_pred = nn.Linear(self.hidden_size, 1)\n",
        "\n",
        "  def forward(self, mol_graph) -> torch.FloatTensor:\n",
        "    fatoms,fbonds,agraph,bgraph,scope = mol_graph\n",
        "\n",
        "    binput = self.W_i(fbonds)\n",
        "    message = F.relu(binput)\n",
        "\n",
        "    for i in range(self.depth - 1):\n",
        "        nei_message = index_select_ND(message, 0, bgraph)\n",
        "        nei_message = nei_message.sum(dim=1)\n",
        "        nei_message = self.W_h(nei_message)\n",
        "        message = F.relu(binput + nei_message)\n",
        "        if self.dropout > 0:\n",
        "            message = F.dropout(message, self.dropout, self.training)\n",
        "\n",
        "    nei_message = index_select_ND(message, 0, agraph)\n",
        "    nei_message = nei_message.sum(dim=1)\n",
        "    ainput = torch.cat([fatoms, nei_message], dim=1)\n",
        "    atom_hiddens = F.relu(self.W_o(ainput))\n",
        "    if self.dropout > 0:\n",
        "        atom_hiddens = F.dropout(atom_hiddens, self.dropout, self.training)\n",
        "\n",
        "    mol_vecs = []\n",
        "    for st,le in scope:\n",
        "        mol_vec = atom_hiddens.narrow(0, st, le).sum(dim=0) / le\n",
        "        mol_vecs.append(mol_vec)\n",
        "\n",
        "    mol_vecs = torch.stack(mol_vecs, dim=0)\n",
        "    return self.W_pred(mol_vecs)\n",
        "    "
      ],
      "execution_count": 0,
      "outputs": []
    },
    {
      "metadata": {
        "id": "QR4mTHN-h9jX",
        "colab_type": "code",
        "colab": {}
      },
      "cell_type": "code",
      "source": [
        "model = MPN()\n",
        "optimizer = optim.Adam(model.parameters(), lr=lr)"
      ],
      "execution_count": 0,
      "outputs": []
    },
    {
      "metadata": {
        "id": "NHty84Kcmc5t",
        "colab_type": "code",
        "colab": {}
      },
      "cell_type": "code",
      "source": [
        "def param_count(model: nn.Module) -> int:\n",
        "    return sum(param.numel() for param in model.parameters() if param.requires_grad)"
      ],
      "execution_count": 0,
      "outputs": []
    },
    {
      "metadata": {
        "id": "WVc0glY0lw_7",
        "colab_type": "code",
        "colab": {
          "base_uri": "https://localhost:8080/",
          "height": 136
        },
        "outputId": "d36bf726-47f1-4465-dfd3-bc7391e451e2"
      },
      "cell_type": "code",
      "source": [
        "print(model)\n",
        "print('Number of parameters = {:,}'.format(param_count(model)))"
      ],
      "execution_count": 34,
      "outputs": [
        {
          "output_type": "stream",
          "text": [
            "MPN(\n",
            "  (W_i): Linear(in_features=148, out_features=300, bias=False)\n",
            "  (W_h): Linear(in_features=300, out_features=300, bias=False)\n",
            "  (W_o): Linear(in_features=436, out_features=300, bias=True)\n",
            "  (W_pred): Linear(in_features=300, out_features=1, bias=True)\n",
            ")\n",
            "Number of parameters = 265,801\n"
          ],
          "name": "stdout"
        }
      ]
    },
    {
      "metadata": {
        "id": "L-BVDLuxS1NY",
        "colab_type": "code",
        "colab": {}
      },
      "cell_type": "code",
      "source": [
        "def train_epoch(model: nn.Module,\n",
        "                optimizer: optim.Optimizer,\n",
        "                data: MoleculeDataset,\n",
        "                batch_size: int,\n",
        "                epoch: int) -> float:\n",
        "  model.train()\n",
        "  data.shuffle(seed=epoch)\n",
        "  \n",
        "  total_loss = 0\n",
        "  num_batches = 0\n",
        "  \n",
        "  data_size = len(data) // batch_size * batch_size  # drop final, incomplete batch\n",
        "  for i in range(0, data_size, batch_size):\n",
        "    batch = MoleculeDataset(data[i:i + batch_size])\n",
        "    mol_graph, targets = mol2graph(batch.smiles()), batch.targets()\n",
        "    \n",
        "    targets = torch.FloatTensor(targets)\n",
        "    \n",
        "    optimizer.zero_grad()\n",
        "    preds = model(mol_graph)\n",
        "    loss = F.mse_loss(preds, targets)\n",
        "    loss.backward()\n",
        "    optimizer.step()\n",
        "    \n",
        "    total_loss += math.sqrt(loss.item())\n",
        "    num_batches += 1\n",
        "    \n",
        "  avg_loss = total_loss / num_batches\n",
        "  \n",
        "  return avg_loss"
      ],
      "execution_count": 0,
      "outputs": []
    },
    {
      "metadata": {
        "id": "dQ0B_KmHfVuo",
        "colab_type": "code",
        "colab": {
          "base_uri": "https://localhost:8080/",
          "height": 527
        },
        "outputId": "d99ae188-45d4-4a2b-f3d5-5af6077f3c99"
      },
      "cell_type": "code",
      "source": [
        "num_epochs = 30\n",
        "for epoch in range(num_epochs):\n",
        "  train_loss = train_epoch(model, optimizer, train_data, batch_size, epoch)\n",
        "  print('Epoch {}: Train loss = {:.4f}'.format(epoch, train_loss))"
      ],
      "execution_count": 42,
      "outputs": [
        {
          "output_type": "stream",
          "text": [
            "Epoch 0: Train loss = 2.2651\n",
            "Epoch 1: Train loss = 1.8405\n",
            "Epoch 2: Train loss = 1.6957\n",
            "Epoch 3: Train loss = 1.5715\n",
            "Epoch 4: Train loss = 1.4402\n",
            "Epoch 5: Train loss = 1.3467\n",
            "Epoch 6: Train loss = 1.2430\n",
            "Epoch 7: Train loss = 1.1616\n",
            "Epoch 8: Train loss = 1.0977\n",
            "Epoch 9: Train loss = 1.0230\n",
            "Epoch 10: Train loss = 0.9596\n",
            "Epoch 11: Train loss = 0.9158\n",
            "Epoch 12: Train loss = 0.8961\n",
            "Epoch 13: Train loss = 0.9190\n",
            "Epoch 14: Train loss = 0.9347\n",
            "Epoch 15: Train loss = 0.8680\n",
            "Epoch 16: Train loss = 0.8183\n",
            "Epoch 17: Train loss = 0.8056\n",
            "Epoch 18: Train loss = 0.8221\n",
            "Epoch 19: Train loss = 0.8608\n",
            "Epoch 20: Train loss = 0.8132\n",
            "Epoch 21: Train loss = 0.7522\n",
            "Epoch 22: Train loss = 0.7444\n",
            "Epoch 23: Train loss = 0.7356\n",
            "Epoch 24: Train loss = 0.7350\n",
            "Epoch 25: Train loss = 0.7550\n",
            "Epoch 26: Train loss = 0.6763\n",
            "Epoch 27: Train loss = 0.6779\n",
            "Epoch 28: Train loss = 0.6808\n",
            "Epoch 29: Train loss = 0.7232\n"
          ],
          "name": "stdout"
        }
      ]
    },
    {
      "metadata": {
        "id": "WNCLOA48e7gv",
        "colab_type": "code",
        "colab": {}
      },
      "cell_type": "code",
      "source": [
        "def rmse(targets: List[float], preds: List[float]) -> float:\n",
        "    return math.sqrt(mean_squared_error(targets, preds))"
      ],
      "execution_count": 0,
      "outputs": []
    },
    {
      "metadata": {
        "id": "uCPXK90SeR9F",
        "colab_type": "code",
        "colab": {}
      },
      "cell_type": "code",
      "source": [
        "def evaluate(model: nn.Module, data: MoleculeDataset, batch_size: int):\n",
        "    model.eval()\n",
        "    \n",
        "    all_preds = []\n",
        "    with torch.no_grad():\n",
        "      for i in range(0, len(data), batch_size):\n",
        "        batch = MoleculeDataset(data[i:i + batch_size])\n",
        "        mol_graph = mol2graph(batch.smiles())\n",
        "                \n",
        "        preds = model(mol_graph)\n",
        "        all_preds.extend(preds)\n",
        "    \n",
        "    return rmse(data.targets(), all_preds)"
      ],
      "execution_count": 0,
      "outputs": []
    },
    {
      "metadata": {
        "id": "k8koU1XbXBVA",
        "colab_type": "code",
        "colab": {
          "base_uri": "https://localhost:8080/",
          "height": 34
        },
        "outputId": "2e3d120a-75f8-4391-9b5e-84cf8913e69e"
      },
      "cell_type": "code",
      "source": [
        "test_rmse = evaluate(model, test_data, batch_size)\n",
        "print('Test rmse = {:.4f}'.format(test_rmse))"
      ],
      "execution_count": 45,
      "outputs": [
        {
          "output_type": "stream",
          "text": [
            "Test rmse = 0.8346\n"
          ],
          "name": "stdout"
        }
      ]
    }
  ]
}