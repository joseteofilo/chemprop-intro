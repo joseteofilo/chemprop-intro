{
  "nbformat": 4,
  "nbformat_minor": 0,
  "metadata": {
    "colab": {
      "name": "message_passing_neural_network.ipynb",
      "version": "0.3.2",
      "provenance": [],
      "include_colab_link": true
    },
    "kernelspec": {
      "name": "python3",
      "display_name": "Python 3"
    }
  },
  "cells": [
    {
      "cell_type": "markdown",
      "metadata": {
        "id": "view-in-github",
        "colab_type": "text"
      },
      "source": [
        "<a href=\"https://colab.research.google.com/github/swansonk14/chemprop-intro/blob/master/lab3/message_passing_neural_network.ipynb\" target=\"_parent\"><img src=\"https://colab.research.google.com/assets/colab-badge.svg\" alt=\"Open In Colab\"/></a>"
      ]
    },
    {
      "metadata": {
        "id": "ATT0ccpSf8jX",
        "colab_type": "text"
      },
      "cell_type": "markdown",
      "source": [
        "# Message Passing Neural Network on Graph Structure"
      ]
    },
    {
      "metadata": {
        "id": "G7Yw-FhrOcHs",
        "colab_type": "code",
        "colab": {}
      },
      "cell_type": "code",
      "source": [
        "!wget -c https://repo.anaconda.com/miniconda/Miniconda3-latest-Linux-x86_64.sh\n",
        "!chmod +x Miniconda3-latest-Linux-x86_64.sh\n",
        "!bash ./Miniconda3-latest-Linux-x86_64.sh -b -f -p /usr/local\n",
        "!conda install -q -y --prefix /usr/local -c rdkit rdkit pytorch\n",
        "\n",
        "import sys\n",
        "sys.path.append('/usr/local/lib/python3.6/site-packages/')\n",
        "\n",
        "!wget https://raw.githubusercontent.com/swansonk14/chemprop-intro/master/data/delaney_train.csv\n",
        "!wget https://raw.githubusercontent.com/swansonk14/chemprop-intro/master/data/delaney_test.csv"
      ],
      "execution_count": 0,
      "outputs": []
    },
    {
      "metadata": {
        "id": "11ajIxSfT89P",
        "colab_type": "code",
        "colab": {}
      },
      "cell_type": "code",
      "source": [
        "import math\n",
        "import os\n",
        "import random\n",
        "from typing import Union, List, Dict\n",
        "\n",
        "import numpy as np\n",
        "from rdkit import Chem, DataStructs\n",
        "from rdkit.Chem import AllChem\n",
        "from sklearn.metrics import mean_squared_error\n",
        "import torch\n",
        "import torch.nn as nn\n",
        "import torch.nn.functional as F\n",
        "from torch import optim"
      ],
      "execution_count": 0,
      "outputs": []
    },
    {
      "metadata": {
        "id": "82061CNz_-en",
        "colab_type": "code",
        "colab": {}
      },
      "cell_type": "code",
      "source": [
        "from google.colab import drive\n",
        "drive.mount('/content/gdrive')"
      ],
      "execution_count": 0,
      "outputs": []
    },
    {
      "metadata": {
        "id": "J9UX9eTCZ4oJ",
        "colab_type": "code",
        "colab": {}
      },
      "cell_type": "code",
      "source": [
        "class MoleculeDatapoint:\n",
        "  def __init__(self, smiles: str, targets: List[float]):\n",
        "    self.smiles = smiles\n",
        "    self.targets = targets\n",
        "    \n",
        "class MoleculeDataset:\n",
        "  def __init__(self, data: List[MoleculeDatapoint]):\n",
        "    self.data = data\n",
        "    \n",
        "  def smiles(self) -> List[str]:\n",
        "    return [d.smiles for d in self.data]\n",
        "  \n",
        "  def targets(self) -> List[float]:\n",
        "    return [d.targets for d in self.data]\n",
        "  \n",
        "  def shuffle(self, seed: int = None):\n",
        "    if seed is not None:\n",
        "      random.seed(seed)\n",
        "    random.shuffle(self.data)\n",
        "  \n",
        "  def __len__(self) -> int:\n",
        "    return len(self.data)\n",
        "  \n",
        "  def __getitem__(self, item) -> MoleculeDatapoint:\n",
        "    return self.data[item]"
      ],
      "execution_count": 0,
      "outputs": []
    },
    {
      "metadata": {
        "id": "WzizVlZpLJhS",
        "colab_type": "code",
        "colab": {}
      },
      "cell_type": "code",
      "source": [
        "def get_data(split: str) -> MoleculeDataset:\n",
        "  data_path = 'delaney_{}.csv'.format(split)\n",
        "  with open(data_path) as f:\n",
        "    f.readline()\n",
        "    data = []\n",
        "    for line in f:\n",
        "      line = line.strip().split(',')\n",
        "      smiles, targets = line[0], line[1:]\n",
        "      targets = [float(target) for target in targets]\n",
        "      data.append(MoleculeDatapoint(smiles, targets))\n",
        "      \n",
        "  return MoleculeDataset(data)"
      ],
      "execution_count": 0,
      "outputs": []
    },
    {
      "metadata": {
        "id": "IBtqFXZ9UPkX",
        "colab_type": "code",
        "colab": {}
      },
      "cell_type": "code",
      "source": [
        "train_data, test_data = get_data('train'), get_data('test')"
      ],
      "execution_count": 0,
      "outputs": []
    },
    {
      "metadata": {
        "id": "UW4VtDlln5Zo",
        "colab_type": "code",
        "colab": {}
      },
      "cell_type": "code",
      "source": [
        "# TODO: convert data to graph representation"
      ],
      "execution_count": 0,
      "outputs": []
    },
    {
      "metadata": {
        "id": "vUT6Tl_CiVrM",
        "colab_type": "code",
        "colab": {}
      },
      "cell_type": "code",
      "source": [
        "num_epochs = 30\n",
        "batch_size = 50\n",
        "lr = .01"
      ],
      "execution_count": 0,
      "outputs": []
    },
    {
      "metadata": {
        "id": "iP1322zGSXOs",
        "colab_type": "code",
        "colab": {}
      },
      "cell_type": "code",
      "source": [
        "class MPN(nn.Module):\n",
        "  def __init__(self):\n",
        "    super(FFN, self).__init__()\n",
        "    # TODO\n",
        "\n",
        "  def forward(self, x: torch.FloatTensor) -> torch.FloatTensor:\n",
        "    # TODO\n",
        "    \n",
        "    return x"
      ],
      "execution_count": 0,
      "outputs": []
    },
    {
      "metadata": {
        "id": "QR4mTHN-h9jX",
        "colab_type": "code",
        "colab": {}
      },
      "cell_type": "code",
      "source": [
        "model = FFN()\n",
        "optimizer = optim.SGD(model.parameters(), lr=lr)"
      ],
      "execution_count": 0,
      "outputs": []
    },
    {
      "metadata": {
        "id": "NHty84Kcmc5t",
        "colab_type": "code",
        "colab": {}
      },
      "cell_type": "code",
      "source": [
        "def param_count(model: nn.Module) -> int:\n",
        "    return sum(param.numel() for param in model.parameters() if param.requires_grad)"
      ],
      "execution_count": 0,
      "outputs": []
    },
    {
      "metadata": {
        "id": "WVc0glY0lw_7",
        "colab_type": "code",
        "colab": {}
      },
      "cell_type": "code",
      "source": [
        "print(model)\n",
        "print('Number of parameters = {:,}'.format(param_count(model)))"
      ],
      "execution_count": 0,
      "outputs": []
    },
    {
      "metadata": {
        "id": "L-BVDLuxS1NY",
        "colab_type": "code",
        "colab": {}
      },
      "cell_type": "code",
      "source": [
        "def train_epoch(model: nn.Module,\n",
        "                optimizer: optim.Optimizer,\n",
        "                data: MoleculeDataset,\n",
        "                batch_size: int,\n",
        "                epoch: int) -> float:\n",
        "  model.train()\n",
        "  data.shuffle(seed=epoch)\n",
        "  \n",
        "  total_loss = 0\n",
        "  num_batches = 0\n",
        "  \n",
        "  data_size = len(data) // batch_size * batch_size  # drop final, incomplete batch\n",
        "  for i in range(0, data_size, batch_size):\n",
        "    batch = MoleculeDataset(data[i:i + batch_size])\n",
        "    morgans, targets = batch.morgans(), batch.targets()\n",
        "    \n",
        "    morgans, targets = torch.FloatTensor(morgans), torch.FloatTensor(targets)\n",
        "    \n",
        "    optimizer.zero_grad()\n",
        "    preds = model(morgans)\n",
        "    loss = F.mse_loss(preds, targets)\n",
        "    loss.backward()\n",
        "    optimizer.step()\n",
        "    \n",
        "    total_loss += math.sqrt(loss.item())\n",
        "    num_batches += 1\n",
        "    \n",
        "  avg_loss = total_loss / num_batches\n",
        "  \n",
        "  return avg_loss"
      ],
      "execution_count": 0,
      "outputs": []
    },
    {
      "metadata": {
        "id": "dQ0B_KmHfVuo",
        "colab_type": "code",
        "colab": {}
      },
      "cell_type": "code",
      "source": [
        "num_epochs = 30\n",
        "for epoch in range(num_epochs):\n",
        "  train_loss = train_epoch(model, optimizer, train_data, batch_size, epoch)\n",
        "  print('Epoch {}: Train loss = {:.4f}'.format(epoch, train_loss))"
      ],
      "execution_count": 0,
      "outputs": []
    },
    {
      "metadata": {
        "id": "WNCLOA48e7gv",
        "colab_type": "code",
        "colab": {}
      },
      "cell_type": "code",
      "source": [
        "def rmse(targets: List[float], preds: List[float]) -> float:\n",
        "    return math.sqrt(mean_squared_error(targets, preds))"
      ],
      "execution_count": 0,
      "outputs": []
    },
    {
      "metadata": {
        "id": "uCPXK90SeR9F",
        "colab_type": "code",
        "colab": {}
      },
      "cell_type": "code",
      "source": [
        "def evaluate(model: nn.Module, data: MoleculeDataset, batch_size: int):\n",
        "    model.eval()\n",
        "    \n",
        "    all_preds = []\n",
        "    with torch.no_grad():\n",
        "      for i in range(0, len(data), batch_size):\n",
        "        batch = MoleculeDataset(data[i:i + batch_size])\n",
        "        morgans = batch.morgans()\n",
        "        \n",
        "        morgans = torch.FloatTensor(morgans)\n",
        "        \n",
        "        preds = model(morgans)\n",
        "        all_preds.extend(preds)\n",
        "    \n",
        "    return rmse(data.targets(), all_preds)"
      ],
      "execution_count": 0,
      "outputs": []
    },
    {
      "metadata": {
        "id": "k8koU1XbXBVA",
        "colab_type": "code",
        "colab": {}
      },
      "cell_type": "code",
      "source": [
        "test_rmse = evaluate(model, test_data, batch_size)\n",
        "print('Test rmse = {:.4f}'.format(test_rmse))"
      ],
      "execution_count": 0,
      "outputs": []
    }
  ]
}