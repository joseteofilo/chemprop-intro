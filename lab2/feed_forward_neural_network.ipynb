{
  "nbformat": 4,
  "nbformat_minor": 0,
  "metadata": {
    "colab": {
      "name": "feed_forward_neural_network.ipynb",
      "version": "0.3.2",
      "provenance": [],
      "include_colab_link": true
    },
    "kernelspec": {
      "name": "python3",
      "display_name": "Python 3"
    }
  },
  "cells": [
    {
      "cell_type": "markdown",
      "metadata": {
        "id": "view-in-github",
        "colab_type": "text"
      },
      "source": [
        "<a href=\"https://colab.research.google.com/github/swansonk14/chemprop-intro/blob/master/lab2/feed_forward_neural_network.ipynb\" target=\"_parent\"><img src=\"https://colab.research.google.com/assets/colab-badge.svg\" alt=\"Open In Colab\"/></a>"
      ]
    },
    {
      "metadata": {
        "id": "ATT0ccpSf8jX",
        "colab_type": "text"
      },
      "cell_type": "markdown",
      "source": [
        "# Feed-Forward Neural Network on Morgan Fingerprint"
      ]
    },
    {
      "metadata": {
        "id": "G7Yw-FhrOcHs",
        "colab_type": "code",
        "outputId": "aa080d05-a88e-4068-866b-bb92018e1375",
        "colab": {
          "base_uri": "https://localhost:8080/",
          "height": 2278
        }
      },
      "cell_type": "code",
      "source": [
        "!wget -c https://repo.anaconda.com/miniconda/Miniconda3-latest-Linux-x86_64.sh\n",
        "!chmod +x Miniconda3-latest-Linux-x86_64.sh\n",
        "!bash ./Miniconda3-latest-Linux-x86_64.sh -b -f -p /usr/local\n",
        "!conda install -q -y --prefix /usr/local -c rdkit rdkit pytorch\n",
        "\n",
        "import sys\n",
        "sys.path.append('/usr/local/lib/python3.6/site-packages/')\n",
        "\n",
        "!wget https://raw.githubusercontent.com/swansonk14/chemprop-intro/master/data/delaney_train.csv\n",
        "!wget https://raw.githubusercontent.com/swansonk14/chemprop-intro/master/data/delaney_test.csv"
      ],
      "execution_count": 1,
      "outputs": [
        {
          "output_type": "stream",
          "text": [
            "--2018-12-27 08:02:20--  https://repo.anaconda.com/miniconda/Miniconda3-latest-Linux-x86_64.sh\n",
            "Resolving repo.anaconda.com (repo.anaconda.com)... 104.17.111.77, 104.17.108.77, 104.17.107.77, ...\n",
            "Connecting to repo.anaconda.com (repo.anaconda.com)|104.17.111.77|:443... connected.\n",
            "HTTP request sent, awaiting response... 416 Requested Range Not Satisfiable\n",
            "\n",
            "    The file is already fully retrieved; nothing to do.\n",
            "\n",
            "PREFIX=/usr/local\n",
            "reinstalling: python-3.7.0-hc3d631a_0 ...\n",
            "Python 3.7.0\n",
            "reinstalling: ca-certificates-2018.03.07-0 ...\n",
            "reinstalling: conda-env-2.6.0-1 ...\n",
            "reinstalling: libgcc-ng-8.2.0-hdf63c60_1 ...\n",
            "reinstalling: libstdcxx-ng-8.2.0-hdf63c60_1 ...\n",
            "reinstalling: libffi-3.2.1-hd88cf55_4 ...\n",
            "reinstalling: ncurses-6.1-hf484d3e_0 ...\n",
            "reinstalling: openssl-1.0.2p-h14c3975_0 ...\n",
            "reinstalling: xz-5.2.4-h14c3975_4 ...\n",
            "reinstalling: yaml-0.1.7-had09818_2 ...\n",
            "reinstalling: zlib-1.2.11-ha838bed_2 ...\n",
            "reinstalling: libedit-3.1.20170329-h6b74fdf_2 ...\n",
            "reinstalling: readline-7.0-h7b6447c_5 ...\n",
            "reinstalling: tk-8.6.8-hbc83047_0 ...\n",
            "reinstalling: sqlite-3.24.0-h84994c4_0 ...\n",
            "reinstalling: asn1crypto-0.24.0-py37_0 ...\n",
            "reinstalling: certifi-2018.8.24-py37_1 ...\n",
            "reinstalling: chardet-3.0.4-py37_1 ...\n",
            "reinstalling: idna-2.7-py37_0 ...\n",
            "reinstalling: pycosat-0.6.3-py37h14c3975_0 ...\n",
            "reinstalling: pycparser-2.18-py37_1 ...\n",
            "reinstalling: pysocks-1.6.8-py37_0 ...\n",
            "reinstalling: ruamel_yaml-0.15.46-py37h14c3975_0 ...\n",
            "reinstalling: six-1.11.0-py37_1 ...\n",
            "reinstalling: cffi-1.11.5-py37he75722e_1 ...\n",
            "reinstalling: setuptools-40.2.0-py37_0 ...\n",
            "reinstalling: cryptography-2.3.1-py37hc365091_0 ...\n",
            "reinstalling: wheel-0.31.1-py37_0 ...\n",
            "reinstalling: pip-10.0.1-py37_0 ...\n",
            "reinstalling: pyopenssl-18.0.0-py37_0 ...\n",
            "reinstalling: urllib3-1.23-py37_0 ...\n",
            "reinstalling: requests-2.19.1-py37_0 ...\n",
            "reinstalling: conda-4.5.11-py37_0 ...\n",
            "unlinking: asn1crypto-0.24.0-py36_0\n",
            "unlinking: certifi-2018.11.29-py36_0\n",
            "unlinking: cffi-1.11.5-py36he75722e_1\n",
            "unlinking: chardet-3.0.4-py36_1\n",
            "unlinking: conda-4.5.12-py36_0\n",
            "unlinking: cryptography-2.4.2-py36h1ba5d50_0\n",
            "unlinking: idna-2.8-py36_0\n",
            "unlinking: openssl-1.1.1a-h7b6447c_0\n",
            "unlinking: pip-18.1-py36_0\n",
            "unlinking: pycosat-0.6.3-py36h14c3975_0\n",
            "unlinking: pycparser-2.19-py36_0\n",
            "unlinking: pyopenssl-18.0.0-py36_0\n",
            "unlinking: pysocks-1.6.8-py36_0\n",
            "unlinking: python-3.6.7-h0371630_0\n",
            "unlinking: requests-2.21.0-py36_0\n",
            "unlinking: ruamel_yaml-0.15.46-py36h14c3975_0\n",
            "unlinking: setuptools-40.6.3-py36_0\n",
            "unlinking: six-1.12.0-py36_0\n",
            "unlinking: sqlite-3.26.0-h7b6447c_0\n",
            "unlinking: urllib3-1.24.1-py36_0\n",
            "unlinking: wheel-0.32.3-py36_0\n",
            "installation finished.\n",
            "WARNING:\n",
            "    You currently have a PYTHONPATH environment variable set. This may cause\n",
            "    unexpected behavior when running the Python interpreter in Miniconda3.\n",
            "    For best results, please verify that your PYTHONPATH only points to\n",
            "    directories of packages that are compatible with the Python interpreter\n",
            "    in Miniconda3: /usr/local\n",
            "Solving environment: ...working... done\n",
            "\n",
            "## Package Plan ##\n",
            "\n",
            "  environment location: /usr/local\n",
            "\n",
            "  added / updated specs: \n",
            "    - pytorch\n",
            "    - rdkit\n",
            "\n",
            "\n",
            "The following packages will be UPDATED:\n",
            "\n",
            "    asn1crypto:   0.24.0-py37_0          --> 0.24.0-py36_0         \n",
            "    certifi:      2018.8.24-py37_1       --> 2018.11.29-py36_0     \n",
            "    cffi:         1.11.5-py37he75722e_1  --> 1.11.5-py36he75722e_1 \n",
            "    chardet:      3.0.4-py37_1           --> 3.0.4-py36_1          \n",
            "    conda:        4.5.11-py37_0          --> 4.5.12-py36_0         \n",
            "    cryptography: 2.3.1-py37hc365091_0   --> 2.4.2-py36h1ba5d50_0  \n",
            "    idna:         2.7-py37_0             --> 2.8-py36_0            \n",
            "    openssl:      1.0.2p-h14c3975_0      --> 1.1.1a-h7b6447c_0     \n",
            "    pip:          10.0.1-py37_0          --> 18.1-py36_0           \n",
            "    pycosat:      0.6.3-py37h14c3975_0   --> 0.6.3-py36h14c3975_0  \n",
            "    pycparser:    2.18-py37_1            --> 2.19-py36_0           \n",
            "    pyopenssl:    18.0.0-py37_0          --> 18.0.0-py36_0         \n",
            "    pysocks:      1.6.8-py37_0           --> 1.6.8-py36_0          \n",
            "    requests:     2.19.1-py37_0          --> 2.21.0-py36_0         \n",
            "    ruamel_yaml:  0.15.46-py37h14c3975_0 --> 0.15.46-py36h14c3975_0\n",
            "    setuptools:   40.2.0-py37_0          --> 40.6.3-py36_0         \n",
            "    six:          1.11.0-py37_1          --> 1.12.0-py36_0         \n",
            "    sqlite:       3.24.0-h84994c4_0      --> 3.26.0-h7b6447c_0     \n",
            "    urllib3:      1.23-py37_0            --> 1.24.1-py36_0         \n",
            "    wheel:        0.31.1-py37_0          --> 0.32.3-py36_0         \n",
            "\n",
            "The following packages will be DOWNGRADED:\n",
            "\n",
            "    python:       3.7.0-hc3d631a_0       --> 3.6.7-h0371630_0      \n",
            "\n",
            "Preparing transaction: ...working... done\n",
            "Verifying transaction: ...working... done\n",
            "Executing transaction: ...working... done\n",
            "--2018-12-27 08:03:04--  https://raw.githubusercontent.com/swansonk14/chemprop-intro/master/data/delaney_train.csv\n",
            "Resolving raw.githubusercontent.com (raw.githubusercontent.com)... 151.101.0.133, 151.101.64.133, 151.101.128.133, ...\n",
            "Connecting to raw.githubusercontent.com (raw.githubusercontent.com)|151.101.0.133|:443... connected.\n",
            "HTTP request sent, awaiting response... 200 OK\n",
            "Length: 27140 (27K) [text/plain]\n",
            "Saving to: ‘delaney_train.csv.2’\n",
            "\n",
            "delaney_train.csv.2 100%[===================>]  26.50K  --.-KB/s    in 0.007s  \n",
            "\n",
            "2018-12-27 08:03:04 (3.80 MB/s) - ‘delaney_train.csv.2’ saved [27140/27140]\n",
            "\n",
            "--2018-12-27 08:03:05--  https://raw.githubusercontent.com/swansonk14/chemprop-intro/master/data/delaney_test.csv\n",
            "Resolving raw.githubusercontent.com (raw.githubusercontent.com)... 151.101.0.133, 151.101.64.133, 151.101.128.133, ...\n",
            "Connecting to raw.githubusercontent.com (raw.githubusercontent.com)|151.101.0.133|:443... connected.\n",
            "HTTP request sent, awaiting response... 200 OK\n",
            "Length: 3469 (3.4K) [text/plain]\n",
            "Saving to: ‘delaney_test.csv.2’\n",
            "\n",
            "delaney_test.csv.2  100%[===================>]   3.39K  --.-KB/s    in 0s      \n",
            "\n",
            "2018-12-27 08:03:05 (49.7 MB/s) - ‘delaney_test.csv.2’ saved [3469/3469]\n",
            "\n"
          ],
          "name": "stdout"
        }
      ]
    },
    {
      "metadata": {
        "id": "11ajIxSfT89P",
        "colab_type": "code",
        "colab": {}
      },
      "cell_type": "code",
      "source": [
        "import math\n",
        "import os\n",
        "import random\n",
        "from typing import Union, List, Dict\n",
        "\n",
        "import numpy as np\n",
        "from rdkit import Chem, DataStructs\n",
        "from rdkit.Chem import AllChem\n",
        "from sklearn.metrics import mean_squared_error\n",
        "import torch\n",
        "import torch.nn as nn\n",
        "import torch.nn.functional as F\n",
        "from torch import optim"
      ],
      "execution_count": 0,
      "outputs": []
    },
    {
      "metadata": {
        "id": "M-veW24waG3D",
        "colab_type": "code",
        "colab": {}
      },
      "cell_type": "code",
      "source": [
        "def morgan_fingerprint(smiles: str, radius: int = 3, num_bits: int = 2048) -> np.ndarray:\n",
        "  mol = Chem.MolFromSmiles(smiles)\n",
        "  morgan_vect = AllChem.GetMorganFingerprintAsBitVect(mol, radius, nBits=num_bits)\n",
        "  morgan_fp = np.zeros((1,))\n",
        "  DataStructs.ConvertToNumpyArray(morgan_vect, morgan_fp)\n",
        "  \n",
        "  return morgan_fp"
      ],
      "execution_count": 0,
      "outputs": []
    },
    {
      "metadata": {
        "id": "J9UX9eTCZ4oJ",
        "colab_type": "code",
        "colab": {}
      },
      "cell_type": "code",
      "source": [
        "class MoleculeDatapoint:\n",
        "  def __init__(self, smiles: str, targets: List[float]):\n",
        "    self.smiles = smiles\n",
        "    self.targets = targets\n",
        "    self.morgan = morgan_fingerprint(smiles)\n",
        "    \n",
        "class MoleculeDataset:\n",
        "  def __init__(self, data: List[MoleculeDatapoint]):\n",
        "    self.data = data\n",
        "    \n",
        "  def smiles(self) -> List[str]:\n",
        "    return [d.smiles for d in self.data]\n",
        "  \n",
        "  def targets(self) -> List[float]:\n",
        "    return [d.targets for d in self.data]\n",
        "  \n",
        "  def morgans(self) -> List[np.ndarray]:\n",
        "    return [d.morgan for d in self.data]\n",
        "  \n",
        "  def shuffle(self, seed: int = None):\n",
        "    if seed is not None:\n",
        "      random.seed(seed)\n",
        "    random.shuffle(self.data)\n",
        "  \n",
        "  def __len__(self) -> int:\n",
        "    return len(self.data)\n",
        "  \n",
        "  def __getitem__(self, item) -> MoleculeDatapoint:\n",
        "    return self.data[item]"
      ],
      "execution_count": 0,
      "outputs": []
    },
    {
      "metadata": {
        "id": "WzizVlZpLJhS",
        "colab_type": "code",
        "colab": {}
      },
      "cell_type": "code",
      "source": [
        "def get_data(split: str) -> MoleculeDataset:\n",
        "  data_path = 'delaney_{}.csv'.format(split)\n",
        "  with open(data_path) as f:\n",
        "    f.readline()\n",
        "    data = []\n",
        "    for line in f:\n",
        "      line = line.strip().split(',')\n",
        "      smiles, targets = line[0], line[1:]\n",
        "      targets = [float(target) for target in targets]\n",
        "      data.append(MoleculeDatapoint(smiles, targets))\n",
        "      \n",
        "  return MoleculeDataset(data)"
      ],
      "execution_count": 0,
      "outputs": []
    },
    {
      "metadata": {
        "id": "IBtqFXZ9UPkX",
        "colab_type": "code",
        "colab": {}
      },
      "cell_type": "code",
      "source": [
        "train_data, test_data = get_data('train'), get_data('test')"
      ],
      "execution_count": 0,
      "outputs": []
    },
    {
      "metadata": {
        "id": "vUT6Tl_CiVrM",
        "colab_type": "code",
        "colab": {}
      },
      "cell_type": "code",
      "source": [
        "num_epochs = 30\n",
        "batch_size = 50\n",
        "lr = .01"
      ],
      "execution_count": 0,
      "outputs": []
    },
    {
      "metadata": {
        "id": "iP1322zGSXOs",
        "colab_type": "code",
        "colab": {}
      },
      "cell_type": "code",
      "source": [
        "class FFN(nn.Module):\n",
        "  def __init__(self):\n",
        "    super(FFN, self).__init__()\n",
        "    self.fc1 = nn.Linear(2048, 512)\n",
        "    self.fc2 = nn.Linear(512, 1)\n",
        "\n",
        "  def forward(self, x: torch.FloatTensor) -> torch.FloatTensor:\n",
        "    x = self.fc1(x)\n",
        "    x = self.fc2(x)\n",
        "    \n",
        "    return x"
      ],
      "execution_count": 0,
      "outputs": []
    },
    {
      "metadata": {
        "id": "QR4mTHN-h9jX",
        "colab_type": "code",
        "colab": {}
      },
      "cell_type": "code",
      "source": [
        "model = FFN()\n",
        "optimizer = optim.SGD(model.parameters(), lr=lr)"
      ],
      "execution_count": 0,
      "outputs": []
    },
    {
      "metadata": {
        "id": "NHty84Kcmc5t",
        "colab_type": "code",
        "colab": {}
      },
      "cell_type": "code",
      "source": [
        "def param_count(model: nn.Module) -> int:\n",
        "    return sum(param.numel() for param in model.parameters() if param.requires_grad)"
      ],
      "execution_count": 0,
      "outputs": []
    },
    {
      "metadata": {
        "id": "WVc0glY0lw_7",
        "colab_type": "code",
        "colab": {
          "base_uri": "https://localhost:8080/",
          "height": 102
        },
        "outputId": "cc5a55d1-0522-49ca-9c59-fa50a6267e35"
      },
      "cell_type": "code",
      "source": [
        "print(model)\n",
        "print('Number of parameters = {:,}'.format(param_count(model)))"
      ],
      "execution_count": 24,
      "outputs": [
        {
          "output_type": "stream",
          "text": [
            "FFN(\n",
            "  (fc1): Linear(in_features=2048, out_features=512, bias=True)\n",
            "  (fc2): Linear(in_features=512, out_features=1, bias=True)\n",
            ")\n",
            "Number of parameters = 1,049,601\n"
          ],
          "name": "stdout"
        }
      ]
    },
    {
      "metadata": {
        "id": "L-BVDLuxS1NY",
        "colab_type": "code",
        "colab": {}
      },
      "cell_type": "code",
      "source": [
        "def train_epoch(model: nn.Module,\n",
        "                optimizer: optim.Optimizer,\n",
        "                data: MoleculeDataset,\n",
        "                batch_size: int,\n",
        "                epoch: int) -> float:\n",
        "  model.train()\n",
        "  data.shuffle(seed=epoch)\n",
        "  \n",
        "  total_loss = 0\n",
        "  num_batches = 0\n",
        "  \n",
        "  data_size = len(data) // batch_size * batch_size  # drop final, incomplete batch\n",
        "  for i in range(0, data_size, batch_size):\n",
        "    batch = MoleculeDataset(data[i:i + batch_size])\n",
        "    morgans, targets = batch.morgans(), batch.targets()\n",
        "    \n",
        "    morgans, targets = torch.FloatTensor(morgans), torch.FloatTensor(targets)\n",
        "    \n",
        "    optimizer.zero_grad()\n",
        "    preds = model(morgans)\n",
        "    loss = F.mse_loss(preds, targets)\n",
        "    loss.backward()\n",
        "    optimizer.step()\n",
        "    \n",
        "    total_loss += math.sqrt(loss.item())\n",
        "    num_batches += 1\n",
        "    \n",
        "  avg_loss = total_loss / num_batches\n",
        "  \n",
        "  return avg_loss"
      ],
      "execution_count": 0,
      "outputs": []
    },
    {
      "metadata": {
        "id": "dQ0B_KmHfVuo",
        "colab_type": "code",
        "colab": {
          "base_uri": "https://localhost:8080/",
          "height": 527
        },
        "outputId": "1256a54b-0e69-4700-e5bb-8b8e2ff93b9d"
      },
      "cell_type": "code",
      "source": [
        "num_epochs = 30\n",
        "for epoch in range(num_epochs):\n",
        "  train_loss = train_epoch(model, optimizer, train_data, batch_size, epoch)\n",
        "  print('Epoch {}: Train loss = {:.4f}'.format(epoch, train_loss))"
      ],
      "execution_count": 26,
      "outputs": [
        {
          "output_type": "stream",
          "text": [
            "Epoch 0: Train loss = 2.6107\n",
            "Epoch 1: Train loss = 1.7606\n",
            "Epoch 2: Train loss = 1.6369\n",
            "Epoch 3: Train loss = 1.5026\n",
            "Epoch 4: Train loss = 1.4129\n",
            "Epoch 5: Train loss = 1.3318\n",
            "Epoch 6: Train loss = 1.2642\n",
            "Epoch 7: Train loss = 1.2080\n",
            "Epoch 8: Train loss = 1.1533\n",
            "Epoch 9: Train loss = 1.1138\n",
            "Epoch 10: Train loss = 1.0785\n",
            "Epoch 11: Train loss = 1.0382\n",
            "Epoch 12: Train loss = 1.0103\n",
            "Epoch 13: Train loss = 0.9736\n",
            "Epoch 14: Train loss = 0.9510\n",
            "Epoch 15: Train loss = 0.9283\n",
            "Epoch 16: Train loss = 0.9064\n",
            "Epoch 17: Train loss = 0.8871\n",
            "Epoch 18: Train loss = 0.8641\n",
            "Epoch 19: Train loss = 0.8421\n",
            "Epoch 20: Train loss = 0.8287\n",
            "Epoch 21: Train loss = 0.8086\n",
            "Epoch 22: Train loss = 0.7877\n",
            "Epoch 23: Train loss = 0.7781\n",
            "Epoch 24: Train loss = 0.7620\n",
            "Epoch 25: Train loss = 0.7514\n",
            "Epoch 26: Train loss = 0.7380\n",
            "Epoch 27: Train loss = 0.7242\n",
            "Epoch 28: Train loss = 0.7079\n",
            "Epoch 29: Train loss = 0.7038\n"
          ],
          "name": "stdout"
        }
      ]
    },
    {
      "metadata": {
        "id": "WNCLOA48e7gv",
        "colab_type": "code",
        "colab": {}
      },
      "cell_type": "code",
      "source": [
        "def rmse(targets: List[float], preds: List[float]) -> float:\n",
        "    return math.sqrt(mean_squared_error(targets, preds))"
      ],
      "execution_count": 0,
      "outputs": []
    },
    {
      "metadata": {
        "id": "uCPXK90SeR9F",
        "colab_type": "code",
        "colab": {}
      },
      "cell_type": "code",
      "source": [
        "def evaluate(model: nn.Module, data: MoleculeDataset, batch_size: int):\n",
        "    model.eval()\n",
        "    \n",
        "    all_preds = []\n",
        "    with torch.no_grad():\n",
        "      for i in range(0, len(data), batch_size):\n",
        "        batch = MoleculeDataset(data[i:i + batch_size])\n",
        "        morgans = batch.morgans()\n",
        "        \n",
        "        morgans = torch.FloatTensor(morgans)\n",
        "        \n",
        "        preds = model(morgans)\n",
        "        all_preds.extend(preds)\n",
        "    \n",
        "    return rmse(data.targets(), all_preds)"
      ],
      "execution_count": 0,
      "outputs": []
    },
    {
      "metadata": {
        "id": "k8koU1XbXBVA",
        "colab_type": "code",
        "colab": {
          "base_uri": "https://localhost:8080/",
          "height": 34
        },
        "outputId": "ddf07a47-84b3-4aab-fa5b-d65f5282c4a1"
      },
      "cell_type": "code",
      "source": [
        "test_rmse = evaluate(model, test_data, batch_size)\n",
        "print('Test rmse = {:.4f}'.format(test_rmse))"
      ],
      "execution_count": 29,
      "outputs": [
        {
          "output_type": "stream",
          "text": [
            "Test rmse = 1.1838\n"
          ],
          "name": "stdout"
        }
      ]
    }
  ]
}